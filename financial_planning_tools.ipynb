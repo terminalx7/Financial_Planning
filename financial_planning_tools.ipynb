{
 "cells": [
  {
   "cell_type": "markdown",
   "metadata": {},
   "source": [
    "# Financial Planning with APIs and Simulations\n",
    "\n",
    "In this Challenge, you’ll create two financial analysis tools by using a single Jupyter notebook:\n",
    "\n",
    "Part 1: A financial planner for emergencies. The members will be able to use this tool to visualize their current savings. The members can then determine if they have enough reserves for an emergency fund.\n",
    "\n",
    "Part 2: A financial planner for retirement. This tool will forecast the performance of their retirement portfolio in 30 years. To do this, the tool will make an Alpaca API call via the Alpaca SDK to get historical price data for use in Monte Carlo simulations.\n",
    "\n",
    "You’ll use the information from the Monte Carlo simulation to answer questions about the portfolio in your Jupyter notebook.\n",
    "\n"
   ]
  },
  {
   "cell_type": "code",
   "execution_count": null,
   "metadata": {},
   "outputs": [],
   "source": [
    "# Import the required libraries and dependencies\n",
    "import os\n",
    "import requests\n",
    "import json\n",
    "import pandas as pd\n",
    "from dotenv import load_dotenv\n",
    "import alpaca_trade_api as tradeapi\n",
    "from MCForecastTools import MCSimulation\n",
    "\n",
    "%matplotlib inline"
   ]
  },
  {
   "cell_type": "code",
   "execution_count": null,
   "metadata": {},
   "outputs": [],
   "source": [
    "# Load the environment variables from the .env file\n",
    "#by calling the load_dotenv function\n",
    "load_dotenv()"
   ]
  },
  {
   "cell_type": "markdown",
   "metadata": {},
   "source": [
    "## Part 1: Create a Financial Planner for Emergencies"
   ]
  },
  {
   "cell_type": "markdown",
   "metadata": {},
   "source": [
    "### Evaluate the Cryptocurrency Wallet by Using the Requests Library\n",
    "\n",
    "In this section, you’ll determine the current value of a member’s cryptocurrency wallet. You’ll collect the current prices for the Bitcoin and Ethereum cryptocurrencies by using the Python Requests library. For the prototype, you’ll assume that the member holds the 1.2 Bitcoins (BTC) and 5.3 Ethereum coins (ETH). To do all this, complete the following steps:\n",
    "\n",
    "1. Create a variable named `monthly_income`, and set its value to `12000`.\n",
    "\n",
    "2. Use the Requests library to get the current price (in US dollars) of Bitcoin (BTC) and Ethereum (ETH) by using the API endpoints that the starter code supplies.\n",
    "\n",
    "3. Navigate the JSON response object to access the current price of each coin, and store each in a variable.\n",
    "\n",
    "    > **Hint** Note the specific identifier for each cryptocurrency in the API JSON response. The Bitcoin identifier is `1`, and the Ethereum identifier is `1027`.\n",
    "\n",
    "4. Calculate the value, in US dollars, of the current amount of each cryptocurrency and of the entire cryptocurrency wallet.\n",
    "\n"
   ]
  },
  {
   "cell_type": "code",
   "execution_count": null,
   "metadata": {},
   "outputs": [],
   "source": [
    "# The current number of coins for each cryptocurrency asset held in the portfolio.\n",
    "btc_coins = 1.2\n",
    "eth_coins = 5.3"
   ]
  },
  {
   "cell_type": "markdown",
   "metadata": {},
   "source": [
    "#### Step 1: Create a variable named `monthly_income`, and set its value to `12000`."
   ]
  },
  {
   "cell_type": "code",
   "execution_count": null,
   "metadata": {},
   "outputs": [],
   "source": [
    "# The monthly amount for the member's household income\n",
    "monthly_income = 12000\n"
   ]
  },
  {
   "cell_type": "markdown",
   "metadata": {},
   "source": [
    "#### Review the endpoint URLs for the API calls to Free Crypto API in order to get the current pricing information for both BTC and ETH."
   ]
  },
  {
   "cell_type": "code",
   "execution_count": null,
   "metadata": {},
   "outputs": [],
   "source": [
    "# The Free Crypto API Call endpoint URLs for the held cryptocurrency assets\n",
    "btc_url = \"https://api.alternative.me/v2/ticker/Bitcoin/?convert=USD\"\n",
    "eth_url = \"https://api.alternative.me/v2/ticker/Ethereum/?convert=USD\""
   ]
  },
  {
   "cell_type": "markdown",
   "metadata": {},
   "source": [
    "#### Step 2. Use the Requests library to get the current price (in US dollars) of Bitcoin (BTC) and Ethereum (ETH) by using the API endpoints that the starter code supplied."
   ]
  },
  {
   "cell_type": "code",
   "execution_count": null,
   "metadata": {},
   "outputs": [],
   "source": [
    "# Using the Python requests library, make an API call to access the current price of BTC\n",
    "btc_response = requests.get(btc_url).json()\n",
    "\n",
    "# Use the json.dumps function to review the response data from the API call\n",
    "# Use the indent and sort_keys parameters to make the response object readable\n",
    "print(json.dumps(btc_response, indent=4, sort_keys=True))\n"
   ]
  },
  {
   "cell_type": "code",
   "execution_count": null,
   "metadata": {},
   "outputs": [],
   "source": [
    "# Using the Python requests library, make an API call to access the current price ETH\n",
    "eth_response = requests.get(eth_url).json()\n",
    "\n",
    "# Use the json.dumps function to review the response data from the API call\n",
    "# Use the indent and sort_keys parameters to make the response object readable\n",
    "print(json.dumps(eth_response, indent=4, sort_keys=True))\n"
   ]
  },
  {
   "cell_type": "markdown",
   "metadata": {},
   "source": [
    "#### Step 3: Navigate the JSON response object to access the current price of each coin, and store each in a variable."
   ]
  },
  {
   "cell_type": "code",
   "execution_count": 22,
   "metadata": {},
   "outputs": [
    {
     "name": "stdout",
     "output_type": "stream",
     "text": [
      "The price for Bitcoin is $41824.0\n"
     ]
    }
   ],
   "source": [
    "# Navigate the BTC response object to access the current price of BTC\n",
    "btc_price = btc_response['data']['1']['quotes']['USD']['price']\n",
    "\n",
    "# Print the current price of BTC\n",
    "print(f\"The price for Bitcoin is ${btc_price}\")"
   ]
  },
  {
   "cell_type": "code",
   "execution_count": 23,
   "metadata": {},
   "outputs": [
    {
     "name": "stdout",
     "output_type": "stream",
     "text": [
      "The price for Etherum is $3084.03\n"
     ]
    }
   ],
   "source": [
    "# Navigate the BTC response object to access the current price of ETH\n",
    "eth_price = eth_response['data']['1027']['quotes']['USD']['price']\n",
    "\n",
    "# Print the current price of ETH\n",
    "print(f\"The price for Etherum is ${eth_price}\")\n"
   ]
  },
  {
   "cell_type": "markdown",
   "metadata": {},
   "source": [
    "### Step 4: Calculate the value, in US dollars, of the current amount of each cryptocurrency and of the entire cryptocurrency wallet."
   ]
  },
  {
   "cell_type": "code",
   "execution_count": 24,
   "metadata": {},
   "outputs": [
    {
     "name": "stdout",
     "output_type": "stream",
     "text": [
      "The value of Bitcoin is $50188.799999999996\n"
     ]
    }
   ],
   "source": [
    "# Compute the current value of the BTC holding \n",
    "btc_value = btc_price * btc_coins\n",
    "\n",
    "# Print current value of your holding in BTC\n",
    "print(f\"The value of Bitcoin is ${btc_value}\")\n"
   ]
  },
  {
   "cell_type": "code",
   "execution_count": 25,
   "metadata": {},
   "outputs": [
    {
     "name": "stdout",
     "output_type": "stream",
     "text": [
      "The value of Etherum is $16345.359\n"
     ]
    }
   ],
   "source": [
    "# Compute the current value of the ETH holding \n",
    "eth_value = eth_price * eth_coins\n",
    "\n",
    "# Print current value of your holding in ETH\n",
    "print(f\"The value of Etherum is ${eth_value}\")\n"
   ]
  },
  {
   "cell_type": "code",
   "execution_count": 26,
   "metadata": {},
   "outputs": [
    {
     "name": "stdout",
     "output_type": "stream",
     "text": [
      "The value of the whole crypto portfolio is $66534.159\n"
     ]
    }
   ],
   "source": [
    "# Compute the total value of the cryptocurrency wallet\n",
    "# Add the value of the BTC holding to the value of the ETH holding\n",
    "total_crypto_wallet = eth_value + btc_value\n",
    "\n",
    "# Print current cryptocurrency wallet balance\n",
    "print(f\"The value of the whole crypto portfolio is ${total_crypto_wallet}\")\n"
   ]
  },
  {
   "cell_type": "markdown",
   "metadata": {},
   "source": [
    "### Evaluate the Stock and Bond Holdings by Using the Alpaca SDK\n",
    "\n",
    "In this section, you’ll determine the current value of a member’s stock and bond holdings. You’ll make an API call to Alpaca via the Alpaca SDK to get the current closing prices of the SPDR S&P 500 ETF Trust (ticker: SPY) and of the iShares Core US Aggregate Bond ETF (ticker: AGG). For the prototype, assume that the member holds 110 shares of SPY, which represents the stock portion of their portfolio, and 200 shares of AGG, which represents the bond portion. To do all this, complete the following steps:\n",
    "\n",
    "1. In the `Starter_Code` folder, create an environment file (`.env`) to store the values of your Alpaca API key and Alpaca secret key.\n",
    "\n",
    "2. Set the variables for the Alpaca API and secret keys. Using the Alpaca SDK, create the Alpaca `tradeapi.REST` object. In this object, include the parameters for the Alpaca API key, the secret key, and the version number.\n",
    "\n",
    "3. Set the following parameters for the Alpaca API call:\n",
    "\n",
    "    - `tickers`: Use the tickers for the member’s stock and bond holdings.\n",
    "\n",
    "    - `timeframe`: Use a time frame of one day.\n",
    "\n",
    "    - `start_date` and `end_date`: Use the same date for these parameters, and format them with the date of the previous weekday (or `2020-08-07`). This is because you want the one closing price for the most-recent trading day.\n",
    "\n",
    "4. Get the current closing prices for `SPY` and `AGG` by using the Alpaca `get_barset` function. Format the response as a Pandas DataFrame by including the `df` property at the end of the `get_barset` function.\n",
    "\n",
    "5. Navigating the Alpaca response DataFrame, select the `SPY` and `AGG` closing prices, and store them as variables.\n",
    "\n",
    "6. Calculate the value, in US dollars, of the current amount of shares in each of the stock and bond portions of the portfolio, and print the results.\n"
   ]
  },
  {
   "cell_type": "markdown",
   "metadata": {},
   "source": [
    "#### Review the total number of shares held in both (SPY) and (AGG)."
   ]
  },
  {
   "cell_type": "code",
   "execution_count": 27,
   "metadata": {},
   "outputs": [],
   "source": [
    "# Current amount of shares held in both the stock (SPY) and bond (AGG) portion of the portfolio.\n",
    "spy_shares = 110\n",
    "agg_shares = 200\n"
   ]
  },
  {
   "cell_type": "markdown",
   "metadata": {},
   "source": [
    "#### Step 1: In the `Starter_Code` folder, create an environment file (`.env`) to store the values of your Alpaca API key and Alpaca secret key."
   ]
  },
  {
   "cell_type": "markdown",
   "metadata": {},
   "source": [
    "#### Step 2: Set the variables for the Alpaca API and secret keys. Using the Alpaca SDK, create the Alpaca `tradeapi.REST` object. In this object, include the parameters for the Alpaca API key, the secret key, and the version number."
   ]
  },
  {
   "cell_type": "code",
   "execution_count": 28,
   "metadata": {},
   "outputs": [],
   "source": [
    "# Set the variables for the Alpaca API and secret keys\n",
    "alpaca_api_key = os.getenv('ALPACA_API_KEY')\n",
    "alpaca_secret_key = os.getenv('ALPACA_SECRET_KEY')\n",
    "\n",
    "# Create the Alpaca tradeapi.REST object\n",
    "alpaca = tradeapi.REST(\n",
    "    alpaca_api_key,\n",
    "    alpaca_secret_key,\n",
    "    api_version='v2')"
   ]
  },
  {
   "cell_type": "markdown",
   "metadata": {},
   "source": [
    "#### Step 3: Set the following parameters for the Alpaca API call:\n",
    "\n",
    "- `tickers`: Use the tickers for the member’s stock and bond holdings.\n",
    "\n",
    "- `timeframe`: Use a time frame of one day.\n",
    "\n",
    "- `start_date` and `end_date`: Use the same date for these parameters, and format them with the date of the previous weekday (or `2020-08-07`). This is because you want the one closing price for the most-recent trading day.\n"
   ]
  },
  {
   "cell_type": "code",
   "execution_count": 29,
   "metadata": {},
   "outputs": [],
   "source": [
    "# Set the tickers for both the bond and stock portion of the portfolio\n",
    "tickers = ['SPY', 'AGG']\n",
    "\n",
    "# Set timeframe to 1D \n",
    "timeframe = '1D'\n",
    "\n",
    "limit_rows = 1000\n",
    "\n",
    "# Format current date as ISO format\n",
    "# Set both the start and end date at the date of your prior weekday \n",
    "# This will give you the closing price of the previous trading day\n",
    "# Alternatively you can use a start and end date of 2020-08-07\n",
    "start_date = pd.Timestamp('2022-01-05', tz='America/New_York').isoformat\n",
    "end_date = pd.Timestamp('2022-01-05', tz='America/New_York').isoformat\n",
    "import alpaca_trade_api as tradeapi"
   ]
  },
  {
   "cell_type": "markdown",
   "metadata": {},
   "source": [
    "#### Step 4: Get the current closing prices for `SPY` and `AGG` by using the Alpaca `get_barset` function. Format the response as a Pandas DataFrame by including the `df` property at the end of the `get_barset` function."
   ]
  },
  {
   "cell_type": "code",
   "execution_count": 30,
   "metadata": {},
   "outputs": [
    {
     "data": {
      "text/html": [
       "<div>\n",
       "<style scoped>\n",
       "    .dataframe tbody tr th:only-of-type {\n",
       "        vertical-align: middle;\n",
       "    }\n",
       "\n",
       "    .dataframe tbody tr th {\n",
       "        vertical-align: top;\n",
       "    }\n",
       "\n",
       "    .dataframe thead tr th {\n",
       "        text-align: left;\n",
       "    }\n",
       "\n",
       "    .dataframe thead tr:last-of-type th {\n",
       "        text-align: right;\n",
       "    }\n",
       "</style>\n",
       "<table border=\"1\" class=\"dataframe\">\n",
       "  <thead>\n",
       "    <tr>\n",
       "      <th></th>\n",
       "      <th colspan=\"5\" halign=\"left\">AGG</th>\n",
       "      <th colspan=\"5\" halign=\"left\">SPY</th>\n",
       "    </tr>\n",
       "    <tr>\n",
       "      <th></th>\n",
       "      <th>open</th>\n",
       "      <th>high</th>\n",
       "      <th>low</th>\n",
       "      <th>close</th>\n",
       "      <th>volume</th>\n",
       "      <th>open</th>\n",
       "      <th>high</th>\n",
       "      <th>low</th>\n",
       "      <th>close</th>\n",
       "      <th>volume</th>\n",
       "    </tr>\n",
       "    <tr>\n",
       "      <th>time</th>\n",
       "      <th></th>\n",
       "      <th></th>\n",
       "      <th></th>\n",
       "      <th></th>\n",
       "      <th></th>\n",
       "      <th></th>\n",
       "      <th></th>\n",
       "      <th></th>\n",
       "      <th></th>\n",
       "      <th></th>\n",
       "    </tr>\n",
       "  </thead>\n",
       "  <tbody>\n",
       "    <tr>\n",
       "      <th>2018-01-23 00:00:00-05:00</th>\n",
       "      <td>108.33</td>\n",
       "      <td>108.4401</td>\n",
       "      <td>108.29</td>\n",
       "      <td>108.39</td>\n",
       "      <td>3488873</td>\n",
       "      <td>282.74</td>\n",
       "      <td>283.62</td>\n",
       "      <td>282.370</td>\n",
       "      <td>283.26</td>\n",
       "      <td>53406595</td>\n",
       "    </tr>\n",
       "    <tr>\n",
       "      <th>2018-01-24 00:00:00-05:00</th>\n",
       "      <td>108.25</td>\n",
       "      <td>108.3200</td>\n",
       "      <td>108.15</td>\n",
       "      <td>108.28</td>\n",
       "      <td>2004492</td>\n",
       "      <td>283.99</td>\n",
       "      <td>284.70</td>\n",
       "      <td>281.840</td>\n",
       "      <td>283.18</td>\n",
       "      <td>77334662</td>\n",
       "    </tr>\n",
       "    <tr>\n",
       "      <th>2018-01-25 00:00:00-05:00</th>\n",
       "      <td>108.26</td>\n",
       "      <td>108.5700</td>\n",
       "      <td>108.19</td>\n",
       "      <td>108.56</td>\n",
       "      <td>9339661</td>\n",
       "      <td>284.16</td>\n",
       "      <td>284.27</td>\n",
       "      <td>282.405</td>\n",
       "      <td>283.28</td>\n",
       "      <td>51821059</td>\n",
       "    </tr>\n",
       "    <tr>\n",
       "      <th>2018-01-26 00:00:00-05:00</th>\n",
       "      <td>108.51</td>\n",
       "      <td>108.5100</td>\n",
       "      <td>108.27</td>\n",
       "      <td>108.38</td>\n",
       "      <td>2226605</td>\n",
       "      <td>284.27</td>\n",
       "      <td>286.58</td>\n",
       "      <td>283.960</td>\n",
       "      <td>286.57</td>\n",
       "      <td>56613904</td>\n",
       "    </tr>\n",
       "    <tr>\n",
       "      <th>2018-01-29 00:00:00-05:00</th>\n",
       "      <td>108.14</td>\n",
       "      <td>108.2100</td>\n",
       "      <td>108.02</td>\n",
       "      <td>108.19</td>\n",
       "      <td>3532887</td>\n",
       "      <td>285.97</td>\n",
       "      <td>286.43</td>\n",
       "      <td>284.500</td>\n",
       "      <td>284.68</td>\n",
       "      <td>60825439</td>\n",
       "    </tr>\n",
       "  </tbody>\n",
       "</table>\n",
       "</div>"
      ],
      "text/plain": [
       "                              AGG                                        SPY  \\\n",
       "                             open      high     low   close   volume    open   \n",
       "time                                                                           \n",
       "2018-01-23 00:00:00-05:00  108.33  108.4401  108.29  108.39  3488873  282.74   \n",
       "2018-01-24 00:00:00-05:00  108.25  108.3200  108.15  108.28  2004492  283.99   \n",
       "2018-01-25 00:00:00-05:00  108.26  108.5700  108.19  108.56  9339661  284.16   \n",
       "2018-01-26 00:00:00-05:00  108.51  108.5100  108.27  108.38  2226605  284.27   \n",
       "2018-01-29 00:00:00-05:00  108.14  108.2100  108.02  108.19  3532887  285.97   \n",
       "\n",
       "                                                              \n",
       "                             high      low   close    volume  \n",
       "time                                                          \n",
       "2018-01-23 00:00:00-05:00  283.62  282.370  283.26  53406595  \n",
       "2018-01-24 00:00:00-05:00  284.70  281.840  283.18  77334662  \n",
       "2018-01-25 00:00:00-05:00  284.27  282.405  283.28  51821059  \n",
       "2018-01-26 00:00:00-05:00  286.58  283.960  286.57  56613904  \n",
       "2018-01-29 00:00:00-05:00  286.43  284.500  284.68  60825439  "
      ]
     },
     "execution_count": 30,
     "metadata": {},
     "output_type": "execute_result"
    }
   ],
   "source": [
    "# Use the Alpaca get_barset function to get current closing prices the portfolio\n",
    "# Be sure to set the `df` property after the function to format the response object as a DataFrame\n",
    "prices_df = alpaca.get_barset(\n",
    "    tickers,\n",
    "    timeframe,\n",
    "    start=start_date,\n",
    "    end=end_date,\n",
    "    limit=limit_rows\n",
    ").df\n",
    "\n",
    "# Review the first 5 rows of the Alpaca DataFrame\n",
    "prices_df.head()\n"
   ]
  },
  {
   "cell_type": "code",
   "execution_count": 31,
   "metadata": {},
   "outputs": [
    {
     "data": {
      "text/html": [
       "<div>\n",
       "<style scoped>\n",
       "    .dataframe tbody tr th:only-of-type {\n",
       "        vertical-align: middle;\n",
       "    }\n",
       "\n",
       "    .dataframe tbody tr th {\n",
       "        vertical-align: top;\n",
       "    }\n",
       "\n",
       "    .dataframe thead th {\n",
       "        text-align: right;\n",
       "    }\n",
       "</style>\n",
       "<table border=\"1\" class=\"dataframe\">\n",
       "  <thead>\n",
       "    <tr style=\"text-align: right;\">\n",
       "      <th></th>\n",
       "      <th>SPY</th>\n",
       "      <th>AGG</th>\n",
       "    </tr>\n",
       "  </thead>\n",
       "  <tbody>\n",
       "    <tr>\n",
       "      <th>2018-01-23</th>\n",
       "      <td>283.26</td>\n",
       "      <td>108.39</td>\n",
       "    </tr>\n",
       "    <tr>\n",
       "      <th>2018-01-24</th>\n",
       "      <td>283.18</td>\n",
       "      <td>108.28</td>\n",
       "    </tr>\n",
       "    <tr>\n",
       "      <th>2018-01-25</th>\n",
       "      <td>283.28</td>\n",
       "      <td>108.56</td>\n",
       "    </tr>\n",
       "    <tr>\n",
       "      <th>2018-01-26</th>\n",
       "      <td>286.57</td>\n",
       "      <td>108.38</td>\n",
       "    </tr>\n",
       "    <tr>\n",
       "      <th>2018-01-29</th>\n",
       "      <td>284.68</td>\n",
       "      <td>108.19</td>\n",
       "    </tr>\n",
       "  </tbody>\n",
       "</table>\n",
       "</div>"
      ],
      "text/plain": [
       "               SPY     AGG\n",
       "2018-01-23  283.26  108.39\n",
       "2018-01-24  283.18  108.28\n",
       "2018-01-25  283.28  108.56\n",
       "2018-01-26  286.57  108.38\n",
       "2018-01-29  284.68  108.19"
      ]
     },
     "metadata": {},
     "output_type": "display_data"
    },
    {
     "data": {
      "text/html": [
       "<div>\n",
       "<style scoped>\n",
       "    .dataframe tbody tr th:only-of-type {\n",
       "        vertical-align: middle;\n",
       "    }\n",
       "\n",
       "    .dataframe tbody tr th {\n",
       "        vertical-align: top;\n",
       "    }\n",
       "\n",
       "    .dataframe thead th {\n",
       "        text-align: right;\n",
       "    }\n",
       "</style>\n",
       "<table border=\"1\" class=\"dataframe\">\n",
       "  <thead>\n",
       "    <tr style=\"text-align: right;\">\n",
       "      <th></th>\n",
       "      <th>SPY</th>\n",
       "      <th>AGG</th>\n",
       "    </tr>\n",
       "  </thead>\n",
       "  <tbody>\n",
       "    <tr>\n",
       "      <th>2022-01-04</th>\n",
       "      <td>477.51</td>\n",
       "      <td>113.29</td>\n",
       "    </tr>\n",
       "    <tr>\n",
       "      <th>2022-01-05</th>\n",
       "      <td>468.38</td>\n",
       "      <td>112.93</td>\n",
       "    </tr>\n",
       "    <tr>\n",
       "      <th>2022-01-06</th>\n",
       "      <td>467.93</td>\n",
       "      <td>112.81</td>\n",
       "    </tr>\n",
       "    <tr>\n",
       "      <th>2022-01-07</th>\n",
       "      <td>466.12</td>\n",
       "      <td>112.50</td>\n",
       "    </tr>\n",
       "    <tr>\n",
       "      <th>2022-01-10</th>\n",
       "      <td>465.56</td>\n",
       "      <td>112.41</td>\n",
       "    </tr>\n",
       "  </tbody>\n",
       "</table>\n",
       "</div>"
      ],
      "text/plain": [
       "               SPY     AGG\n",
       "2022-01-04  477.51  113.29\n",
       "2022-01-05  468.38  112.93\n",
       "2022-01-06  467.93  112.81\n",
       "2022-01-07  466.12  112.50\n",
       "2022-01-10  465.56  112.41"
      ]
     },
     "metadata": {},
     "output_type": "display_data"
    }
   ],
   "source": [
    "closing_prices_df = pd.DataFrame()\n",
    "for ticker in tickers:\n",
    "    closing_prices_df[ticker] = prices_df[ticker][\"close\"]\n",
    "closing_prices_df.index = closing_prices_df.index.date\n",
    "display(closing_prices_df.head())\n",
    "display(closing_prices_df.tail())"
   ]
  },
  {
   "cell_type": "markdown",
   "metadata": {},
   "source": [
    "#### Step 5: Navigating the Alpaca response DataFrame, select the `SPY` and `AGG` closing prices, and store them as variables."
   ]
  },
  {
   "cell_type": "code",
   "execution_count": 32,
   "metadata": {},
   "outputs": [
    {
     "data": {
      "text/plain": [
       "2018-01-23    108.39\n",
       "2018-01-24    108.28\n",
       "2018-01-25    108.56\n",
       "2018-01-26    108.38\n",
       "2018-01-29    108.19\n",
       "Name: AGG, dtype: float64"
      ]
     },
     "execution_count": 32,
     "metadata": {},
     "output_type": "execute_result"
    }
   ],
   "source": [
    "# Access the closing price for AGG from the Alpaca DataFrame\n",
    "# Converting the value to a floating point number\n",
    "agg_close_price = closing_prices_df['AGG']\n",
    "\n",
    "# Print the AGG closing price\n",
    "agg_close_price.head()\n"
   ]
  },
  {
   "cell_type": "code",
   "execution_count": 33,
   "metadata": {},
   "outputs": [
    {
     "data": {
      "text/plain": [
       "2018-01-23    283.26\n",
       "2018-01-24    283.18\n",
       "2018-01-25    283.28\n",
       "2018-01-26    286.57\n",
       "2018-01-29    284.68\n",
       "Name: SPY, dtype: float64"
      ]
     },
     "execution_count": 33,
     "metadata": {},
     "output_type": "execute_result"
    }
   ],
   "source": [
    "# Access the closing price for SPY from the Alpaca DataFrame\n",
    "# Converting the value to a floating point number\n",
    "spy_close_price = closing_prices_df['SPY']\n",
    "\n",
    "# Print the SPY closing price\n",
    "spy_close_price.head()"
   ]
  },
  {
   "cell_type": "code",
   "execution_count": 34,
   "metadata": {},
   "outputs": [
    {
     "data": {
      "text/plain": [
       "2018-01-23    283.26\n",
       "2018-01-24    283.18\n",
       "2018-01-25    283.28\n",
       "2018-01-26    286.57\n",
       "2018-01-29    284.68\n",
       "               ...  \n",
       "2022-01-04    477.51\n",
       "2022-01-05    468.38\n",
       "2022-01-06    467.93\n",
       "2022-01-07    466.12\n",
       "2022-01-10    465.56\n",
       "Name: SPY, Length: 1000, dtype: float64"
      ]
     },
     "execution_count": 34,
     "metadata": {},
     "output_type": "execute_result"
    }
   ],
   "source": [
    "spy_close_price.dropna()"
   ]
  },
  {
   "cell_type": "markdown",
   "metadata": {},
   "source": [
    "#### Step 6: Calculate the value, in US dollars, of the current amount of shares in each of the stock and bond portions of the portfolio, and print the results."
   ]
  },
  {
   "cell_type": "code",
   "execution_count": 38,
   "metadata": {},
   "outputs": [
    {
     "name": "stdout",
     "output_type": "stream",
     "text": [
      "The value of AGG in the portfolio is $22482.0\n"
     ]
    }
   ],
   "source": [
    "# Calculate the current value of the bond portion of the portfolio\n",
    "agg_value = closing_prices_df['AGG'].iloc[999] * 200\n",
    "\n",
    "# Print the current value of the bond portfolio\n",
    "print(f\"The value of AGG in the portfolio is ${agg_value}\")"
   ]
  },
  {
   "cell_type": "code",
   "execution_count": 39,
   "metadata": {},
   "outputs": [
    {
     "name": "stdout",
     "output_type": "stream",
     "text": [
      "The value of SPY in the portfolio is $51211.6\n"
     ]
    }
   ],
   "source": [
    "# Calculate the current value of the stock portion of the portfolio\n",
    "spy_value = closing_prices_df['SPY'].iloc[999] * 110\n",
    "\n",
    "# Print the current value of the stock portfolio\n",
    "print(f\"The value of SPY in the portfolio is ${spy_value}\")\n"
   ]
  },
  {
   "cell_type": "code",
   "execution_count": 41,
   "metadata": {},
   "outputs": [
    {
     "name": "stdout",
     "output_type": "stream",
     "text": [
      "The total value of the stocks and bond portfolio is $73693.6\n"
     ]
    }
   ],
   "source": [
    "# Calculate the total value of the stock and bond portion of the portfolio\n",
    "total_stocks_bonds = agg_value + spy_value\n",
    "\n",
    "# Print the current balance of the stock and bond portion of the portfolio\n",
    "print(f\"The total value of the stocks and bond portfolio is ${total_stocks_bonds}\")\n"
   ]
  },
  {
   "cell_type": "code",
   "execution_count": 42,
   "metadata": {},
   "outputs": [
    {
     "name": "stdout",
     "output_type": "stream",
     "text": [
      "The total value of the entire savings portfolio is $140227.75900000002\n"
     ]
    }
   ],
   "source": [
    "# Calculate the total value of the member's entire savings portfolio\n",
    "# Add the value of the cryptocurrency walled to the value of the total stocks and bonds\n",
    "total_portfolio = total_stocks_bonds + total_crypto_wallet\n",
    "\n",
    "# Print current cryptocurrency wallet balance\n",
    "print(f\"The total value of the entire savings portfolio is ${total_portfolio}\")\n"
   ]
  },
  {
   "cell_type": "markdown",
   "metadata": {},
   "source": [
    "### Evaluate the Emergency Fund\n",
    "\n",
    "In this section, you’ll use the valuations for the cryptocurrency wallet and for the stock and bond portions of the portfolio to determine if the credit union member has enough savings to build an emergency fund into their financial plan. To do this, complete the following steps:\n",
    "\n",
    "1. Create a Python list named `savings_data` that has two elements. The first element contains the total value of the cryptocurrency wallet. The second element contains the total value of the stock and bond portions of the portfolio.\n",
    "\n",
    "2. Use the `savings_data` list to create a Pandas DataFrame named `savings_df`, and then display this DataFrame. The function to create the DataFrame should take the following three parameters:\n",
    "\n",
    "    - `savings_data`: Use the list that you just created.\n",
    "\n",
    "    - `columns`: Set this parameter equal to a Python list with a single value called `amount`.\n",
    "\n",
    "    - `index`: Set this parameter equal to a Python list with the values of `crypto` and `stock/bond`.\n",
    "\n",
    "3. Use the `savings_df` DataFrame to plot a pie chart that visualizes the composition of the member’s portfolio. The y-axis of the pie chart uses `amount`. Be sure to add a title.\n",
    "\n",
    "4. Using Python, determine if the current portfolio has enough to create an emergency fund as part of the member’s financial plan. Ideally, an emergency fund should equal to three times the member’s monthly income. To do this, implement the following steps:\n",
    "\n",
    "    1. Create a variable named `emergency_fund_value`, and set it equal to three times the value of the member’s `monthly_income` of $12000. (You set this earlier in Part 1).\n",
    "\n",
    "    2. Create a series of three if statements to determine if the member’s total portfolio is large enough to fund the emergency portfolio:\n",
    "\n",
    "        1. If the total portfolio value is greater than the emergency fund value, display a message congratulating the member for having enough money in this fund.\n",
    "\n",
    "        2. Else if the total portfolio value is equal to the emergency fund value, display a message congratulating the member on reaching this important financial goal.\n",
    "\n",
    "        3. Else the total portfolio is less than the emergency fund value, so display a message showing how many dollars away the member is from reaching the goal. (Subtract the total portfolio value from the emergency fund value.)\n"
   ]
  },
  {
   "cell_type": "markdown",
   "metadata": {},
   "source": [
    "#### Step 1: Create a Python list named `savings_data` that has two elements. The first element contains the total value of the cryptocurrency wallet. The second element contains the total value of the stock and bond portions of the portfolio."
   ]
  },
  {
   "cell_type": "code",
   "execution_count": 43,
   "metadata": {},
   "outputs": [
    {
     "data": {
      "text/plain": [
       "{'values': [73693.6, 66534.159]}"
      ]
     },
     "execution_count": 43,
     "metadata": {},
     "output_type": "execute_result"
    }
   ],
   "source": [
    "# Consolidate financial assets data into a Python list\n",
    "savings_data = {\n",
    "    \"values\": [total_stocks_bonds, total_crypto_wallet]\n",
    "}\n",
    "tickers_2 = ['total_stocks_bonds', 'total_crypto_wallet']\n",
    "\n",
    "# Review the Python list savings_data\n",
    "savings_data"
   ]
  },
  {
   "cell_type": "markdown",
   "metadata": {},
   "source": [
    "#### Step 2: Use the `savings_data` list to create a Pandas DataFrame named `savings_df`, and then display this DataFrame. The function to create the DataFrame should take the following three parameters:\n",
    "\n",
    "- `savings_data`: Use the list that you just created.\n",
    "\n",
    "- `columns`: Set this parameter equal to a Python list with a single value called `amount`.\n",
    "\n",
    "- `index`: Set this parameter equal to a Python list with the values of `crypto` and `stock/bond`.\n"
   ]
  },
  {
   "cell_type": "code",
   "execution_count": 44,
   "metadata": {},
   "outputs": [
    {
     "data": {
      "text/html": [
       "<div>\n",
       "<style scoped>\n",
       "    .dataframe tbody tr th:only-of-type {\n",
       "        vertical-align: middle;\n",
       "    }\n",
       "\n",
       "    .dataframe tbody tr th {\n",
       "        vertical-align: top;\n",
       "    }\n",
       "\n",
       "    .dataframe thead th {\n",
       "        text-align: right;\n",
       "    }\n",
       "</style>\n",
       "<table border=\"1\" class=\"dataframe\">\n",
       "  <thead>\n",
       "    <tr style=\"text-align: right;\">\n",
       "      <th></th>\n",
       "      <th>values</th>\n",
       "    </tr>\n",
       "  </thead>\n",
       "  <tbody>\n",
       "    <tr>\n",
       "      <th>total_stocks_bonds</th>\n",
       "      <td>73693.600</td>\n",
       "    </tr>\n",
       "    <tr>\n",
       "      <th>total_crypto_wallet</th>\n",
       "      <td>66534.159</td>\n",
       "    </tr>\n",
       "  </tbody>\n",
       "</table>\n",
       "</div>"
      ],
      "text/plain": [
       "                        values\n",
       "total_stocks_bonds   73693.600\n",
       "total_crypto_wallet  66534.159"
      ]
     },
     "execution_count": 44,
     "metadata": {},
     "output_type": "execute_result"
    }
   ],
   "source": [
    "# Create a Pandas DataFrame called savings_df \n",
    "savings_df = portfolio_df = pd.DataFrame(savings_data, index=tickers_2)\n",
    "\n",
    "# Display the savings_df DataFrame\n",
    "savings_df\n"
   ]
  },
  {
   "cell_type": "code",
   "execution_count": 45,
   "metadata": {},
   "outputs": [
    {
     "data": {
      "text/html": [
       "<div>\n",
       "<style scoped>\n",
       "    .dataframe tbody tr th:only-of-type {\n",
       "        vertical-align: middle;\n",
       "    }\n",
       "\n",
       "    .dataframe tbody tr th {\n",
       "        vertical-align: top;\n",
       "    }\n",
       "\n",
       "    .dataframe thead th {\n",
       "        text-align: right;\n",
       "    }\n",
       "</style>\n",
       "<table border=\"1\" class=\"dataframe\">\n",
       "  <thead>\n",
       "    <tr style=\"text-align: right;\">\n",
       "      <th></th>\n",
       "      <th>total_stocks_bonds</th>\n",
       "      <th>total_crypto_wallet</th>\n",
       "    </tr>\n",
       "  </thead>\n",
       "  <tbody>\n",
       "    <tr>\n",
       "      <th>0</th>\n",
       "      <td>73693.6</td>\n",
       "      <td>66534.159</td>\n",
       "    </tr>\n",
       "  </tbody>\n",
       "</table>\n",
       "</div>"
      ],
      "text/plain": [
       "   total_stocks_bonds  total_crypto_wallet\n",
       "0             73693.6            66534.159"
      ]
     },
     "execution_count": 45,
     "metadata": {},
     "output_type": "execute_result"
    }
   ],
   "source": [
    "portfolio_value_df =  pd.DataFrame(\n",
    "    {\"total_stocks_bonds\": [total_stocks_bonds],\n",
    "    \"total_crypto_wallet\": [total_crypto_wallet]}\n",
    ")\n",
    "portfolio_value_df"
   ]
  },
  {
   "cell_type": "markdown",
   "metadata": {},
   "source": [
    "#### Step 3: Use the `savings_df` DataFrame to plot a pie chart that visualizes the composition of the member’s portfolio. The y-axis of the pie chart uses `amount`. Be sure to add a title."
   ]
  },
  {
   "cell_type": "code",
   "execution_count": 46,
   "metadata": {},
   "outputs": [
    {
     "data": {
      "text/plain": [
       "<AxesSubplot:title={'center':'Current Value in Dollars of the savings portfolio'}>"
      ]
     },
     "execution_count": 46,
     "metadata": {},
     "output_type": "execute_result"
    },
    {
     "data": {
      "image/png": "iVBORw0KGgoAAAANSUhEUgAAAYQAAAEFCAYAAADjUZCuAAAAOXRFWHRTb2Z0d2FyZQBNYXRwbG90bGliIHZlcnNpb24zLjUuMCwgaHR0cHM6Ly9tYXRwbG90bGliLm9yZy8/fFQqAAAACXBIWXMAAAsTAAALEwEAmpwYAAAoLUlEQVR4nO3df5yVc/7/8cdLk35QqemHNJgiVjKlRhIKWcX6iC+tSUsSkVh2P3xkdz/Wr0g3u/m068f6+FEKlZDk10Z8KlEmJiS2oWi2tlKaSlua6fX943rPdOZ05syZaaZJnvfb7dzOdV7X9X5f7+vHOa9zva/rnMvcHRERkf1quwEiIrJ3UEIQERFACUFERAIlBBERAZQQREQkUEIQERFACUGSMLPlZnZmDdT7iJn9d3XXm+K8TzOzgpjXNbKMlWyTmdmTZvadmS1Iscw4M7u7pttWVWb2mpkNqu12VDczG2Zmq81ss5mlVzDtO2Z2ZRgeaGZ/3zOtrDolhAqY2SVmlht2gFVhRz+lttsFYGaXm9ncJOP/ZmZPJYhnmdk2M2tWsy1MzN2vcfe7qlI2vMm2mtkmM9toZgvNbISZ1avudu5BpwA/BzLcvVv8yIq2897I3c929/G13Y7dYWZuZkfGvK4L/Bk4y90PdPd1qdbl7k+7+1k10c7qpISQhJn9FngAuAdoBRwGPAT0q0JdaanEqtk44P+Z2QFx8cuAGe6+vobnX1Ouc/dGQGvgP4Ec4FUzsz3VgGredocDy939+2qsU6ooybZtBdQHFu/B5uxZ7q5HggfQBNgM9E8yzTjg7pjXpwEFMa+XA7cAHwPbgCMBB4YA3wCzw3RXAEuA74A3gMNj6nDgGmBpGP8gYMAxwFagOLRzQzlt/AK4LOZ1HWAlcB5wBDALWAd8CzwNHBTX/jNTXNZDgOeBtcAy4NeprLeSeog+2NcAq4DBScq+A1wZFzsM2AKcG17XI0rkK8PjAaBekm1UsozdgPeADaEdfwX2j9sWw8O2WBa2w5jQ7sKwnTuW0+5DgOnAeiAfuCrEh8RtxzviyiXczmEdPgi8AmwC5gNHxJT7GTAzzO8L4JdJ1unlwFehnmXAwBAvd/8ARgBT4+r5H2Bs/HYK9c8F7ifah5cBZ8eUawvMDvN/MyzXxDCuPjAxtGED8AHQqpzlWA7cCnwW5vMkUD9m/FVh3a8P2+KQJNt2doh9H9b7LWHYw+tZoVyP0KbC8Nwj0b5asg5ixpVbrlY/92q7AXvrA+gLFAFpSaYZR8UJIQ84FGgAZIYd6inggBA7P+ykxwBpwB+AeXE76gzgIKIPvrVA30Q7WTlt/D3wZszrPqGOukQJ6udEH6Atwpvggbj2V5gQiI40FwK3AfsD7Yg+YPpUtN5CPUXAnaFN5xB9uDctp2zpmywuPhu4LwzfCbwPtAzLNQ+4K8k2KlnGrkD3sB0yiZL0jXHbYibQLGy7PmG5D2Jnkm5dTrv/j+josj7QOWyD3qlsx0TjwzpcT5TE0og+rCeFcQcAK4DBYVwXog/0YxPUfQCwETg6vG5dMl2y/YPoqGYL0Di8rkOURLvHb6fQ/u1EH8h1gGFEidrC+PeIksX+RN1nG9mZEK4GXgYahrJdS+aZYFmWA58Svd+aAe+ycz87I6yDLmF5/kL4QpZo28bEjoyZJjPE0sLrZkSJ59KwngeE1+nlrIO5qZSrzYe6jMqXDnzr7kW7Wc9Yd1/h7v+Oid3u7t+H2NXAve6+JMzrHqCzmR0eM/0od9/g7t8AbxN9oKRqAtDLzDLC68uAZ9x9u7vnu/tMd9/m7muJ+kd7VWEZTwBauPud7v6Du38F/C9RV04qtgN3hja9SvQN7OhKtmEl0RsNYGCob01YrjuI3nxJuftCd3/f3YvcfTnwN3ZdH/e6+/qw7bYDjYi+jVvYhqvi6zWzQ4k+6G5x963ungc8lkqbKvCCuy8I+83T7NwvziXqgnoyLMuHREdvF5VTzw6go5k1cPdV7r4YINn+4e5fAx8SfaGB6AN3i7u/X848vnb3/3X3YmA8UeJpZWaHEe0/t4V9Zy7Rt/cS24nei0e6e3HYRhuTrJO/hvfbemAk0YctRPvEE+7+obtvIzqSOMnMMmPKxm7bVPwCWOruE8J6fhb4HPiPGipX45QQyrcOaF4NfcUrKogdDvyPmW0wsw1E3/oMaBMzzb9ihrcAB6Y685BEZgO/MrMDid7A4wHMrKWZTTKzf5rZRqJD8+ap1h23DIeULENYjt8R9bmmYl1c4q3UMgZtiNYdRN0zX8eM+zrEkjKzo8xshpn9K6yPe9h1fZRuO3efRdSt9CCw2sweNbPGCao+BFjv7pvi2tQmwbSVUd5+cThwYtz2GAgcHF+BR+ctLibqllxlZq+Y2c8gpf3jGXZ+4F4SXlfYVnffEgYPZOe62RIzbez7YwJRN+okM1tpZqPDyd3yxJaN3e5l9gl330z0Ho/dBoneq8nE72cl86xou1a1XI1TQijfe0R9t+cnmeZ7okPZEru84YgOMZPFVgBXu/tBMY8G7j4vhTYmqjuR8URHBhcCy8I3RoB7Qx1Z7t4Y+BVRMkok2bKuCPXGLkMjdz8nxfbtlvANvCswJ4RWEn0oljgsxCryMNE3tfZhffyOXddHmXXu7mPdvStwLHAUcHOCelcCzcysUVyb/plCm3aZZwpWAP8Xtz0OdPdhCSt3f8Pdf070rf1zoqM7qHj/eA44LRx9XkDyhFCeVUTrJnbfOjSmbdvd/Q5370DU734u0b5cnkNjhmO3e5l9IlxokU7ZbVDZ9Ry/n5XMs6LtWtVyNU4JoRzuXkjUJ/6gmZ1vZg3NrK6ZnW1mo8NkecA5ZtbMzA4GbqzCrB4BbjWzYwHMrImZ9U+x7Gogw8z2r2C654neKHcQjg6CRoQTlWbWhsQfZiXyKH9ZFwAbzewWM2tgZnXMrKOZnZDiclRJ2Ca9gJdCG14No54F/mBmLcysOdF2nJhClY2I+q83h2/JCT9AY+Z/gpmdGL6xfs/Ok79luPsKovMY95pZfTPLIjqZ/HQqy0nq27nEDOAoM7s07LN1Q1uPSbAMrczsvPABuY1ofyhZhqT7R+hGeofo5O0yd1+SYvti6/gayAVuN7P9zewkYrpOzOx0MzvOzOoQbZvtJFjHMYabWUa4pPp3wOQQfwYYbGadwyXK9wDzQ9dgeVYTnQ8rz6tE6/kSM0szs4uBDkTrP5mqlqtxSghJuPufgd8SnehdS/TN6zpgWphkArCI6GTW39m581VmHi8C9xEdEm8kOil2dorFZxFdAvcvM/s2yTy+Z2dSiP0QuoPoJFsh0dUqLySZV7nLGvqF/4OoD3sZ0cm7x4iu1KoJfzWzTURv2AeIlq2vu+8I4+8m+pD5GPiEqK87lR9x3UTU9bGJ6FtyRduzcZjuO6JD/nVEJ0cTGUB0UnIl8CLwR3efmUKbIMXtXCJ0TZ1FdA5nJVF3zX1EJ1Pj7Ud0hddKoi63XsC1YVwq+8czwJlU7eigxEDgJKL1dzfRet8Wxh0MTCVKBkuITs4nS+7PEO2fX4XH3QDu/hbw30T7yiqiK6gqOsd1OzA+dLv9Mn6kR79DOJdo/a0D/ovoSrek26iq5faEkrP8IiJ7BTObDHzu7n+sZLnlRFf1vFkjDfsJ0BGCiNSq0J11hJntZ2Z9iX74Oa2Wm/WTVNO/lBURqcjBRN1R6UQ/Uhzm7h/VbpN+mtRlJCIigLqMREQkUEIQERHgR3wOoXnz5p6ZmVnbzRAR+VFZuHDht+7eItG4H21CyMzMJDc3t7abISLyo2Jm8X+bUUpdRiIiAighiIhIoIQgIiLAj/gcgogktn37dgoKCti6dWttN0VqUf369cnIyKBu3WT/Fl6WEoLIPqagoIBGjRqRmZnJHrzNtOxF3J1169ZRUFBA27ZtUy6nLiORfczWrVtJT09XMvgJMzPS09MrfZSohCCyD1IykKrsA0oIIiIC6ByCBJkjXqntJuwzlo/6RW03oYzq3rYVLd+GDRt45plnuPbaa8udZvny5cybN49LLrkk+byWL+fcc8/l008/Tbl9qcw/mdNOO43777+f7OzsWilfnttvv50DDzyQm266qVrrjaUjBBGpVhs2bOChhx5KOs3y5ct55pnducna7s1fElNCEJFqNWLECL788ks6d+7MzTffzM0330zHjh057rjjmDx5cuk0c+bMoXPnzowZM4bly5dz6qmn0qVLF7p06cK8efNSmtfixYvp1q0bnTt3Jisri6VLl+4yf3dP2AaA0aNHc9xxx9GpUydGjBhRpu4dO3YwaNAg/vCHP1BcXMzll19eWseYMWOStmvixIn06NGDjh07smDBAgDWr1/P+eefT1ZWFt27d+fjjz8Gom/+V1xxBaeddhrt2rVj7NixpfWMHDmSo48+mjPPPJMvvviiND527Fg6dOhAVlYWOTkV3Qk0deoyEpFqNWrUKD799FPy8vJ4/vnneeSRR1i0aBHffvstJ5xwAj179mTUqFHcf//9zJgR3Vd+y5YtzJw5k/r167N06VIGDBiQ0n+VPfLII9xwww0MHDiQH374geLi4jLzB3j++efJy8vbpQ15eXlMmzaN+fPn07BhQ9avX19ab1FREQMHDqRjx478/ve/Z+HChfzzn/8s7brasGFD0nZ9//33zJs3j9mzZ3PFFVfw6aef8sc//pHjjz+eadOmMWvWLC677LLSNn7++ee8/fbbbNq0iaOPPpphw4bx8ccfM2nSJD766COKioro0qULXbt2LV3Hy5Yto169ehW2pTJ0hCAiNWbu3LkMGDCAOnXq0KpVK3r16sUHH3ywy3Tbt2/nqquu4rjjjqN///589tlnKdV/0kkncc8993Dffffx9ddf06BBg5Tb8OabbzJ48GAaNmwIQLNmzUrLXH311aXJAKBdu3Z89dVXXH/99bz++us0btw4absGDBgAQM+ePdm4cSMbNmxg7ty5XHrppQCcccYZrFu3jsLCQgB+8YtfUK9ePZo3b07Lli1ZvXo1c+bM4YILLqBhw4Y0btyY8847r7T+rKwsBg4cyMSJE0lLq77v9UoIIlJjUr0j45gxY2jVqhWLFi0iNzeXH374IaVyl1xyCdOnT6dBgwb06dOHWbNmpdwGdy/30swePXrw9ttvl17H37RpUxYtWsRpp53Ggw8+yJVXXpm0XfH1mlnCdpRMV69evdJYnTp1KCoqSlhPiVdeeYXhw4ezcOFCunbtWjr97lJCEJFq1ahRIzZt2gRE35AnT55McXExa9euZfbs2XTr1q3MNACFhYW0bt2a/fbbjwkTJlBcXJzSvL766ivatWvHr3/9a8477zw+/vjjXeourw1nnXUWTzzxBFu2bAEo02U0ZMgQzjnnHPr3709RURHffvstO3bs4MILL+Suu+7iww8/TNqukvMUc+fOpUmTJjRp0oSePXvy9NNPA/DOO+/QvHnzpEcaPXv25MUXX+Tf//43mzZt4uWXXwaicxsrVqzg9NNPZ/To0WzYsIHNmzentL4qUuGxhpkdDUyOCbUDbgOeCvFMYDnwS3f/LpS5FRgCFAO/dvc3QrwrMA5oALwK3ODubmb1Qn1dgXXAxe6+fLeXTkT2+GWw6enpnHzyyXTs2JGzzz6brKwsOnXqhJkxevRoDj74YNLT00lLS6NTp05cfvnlXHvttVx44YU899xznH766RxwwAEpzWvy5MlMnDiRunXrcvDBB3PbbbfRrFmzMvMfPXo077333i5t6Nu3L3l5eWRnZ7P//vtzzjnncM8995TW/dvf/pbCwkIuvfRSRowYweDBg9mxYwcA9957b9J2NW3alB49erBx40aeeOIJIDp5PHjwYLKysmjYsCHjx49PWkeXLl24+OKL6dy5M4cffjinnnoqAMXFxfzqV7+isLAQd+c3v/kNBx10UErrqyKW6iEdgJnVAf4JnAgMB9a7+ygzGwE0dfdbzKwD8CzQDTgEeBM4yt2LzWwBcAPwPlFCGOvur5nZtUCWu19jZjnABe5+cbK2ZGdnu26QU330O4TqU9u/Q1iyZAnHHHNMrbZB9g6J9gUzW+juCX8kUdkuo97Al+7+NdAPKElx44Hzw3A/YJK7b3P3ZUA+0M3MWgON3f09j7LQU3FlSuqaCvQ2/fZeRGSPquzp6Ryib/8Ardx9FYC7rzKzliHehugIoERBiG0Pw/HxkjIrQl1FZlYIpAPfVrJ9IrIPeuONN7jlllvKxNq2bcuLL75YSy2C4cOH8+6775aJ3XDDDQwePLiWWrT7Uk4IZrY/cB5wa0WTJoh5kniyMvFtGAoMBTjssMMqaIaI7Cv69OlDnz59arsZZTz44IO13YRqV5kuo7OBD919dXi9OnQDEZ7XhHgBcGhMuQxgZYhnJIiXKWNmaUATYD1x3P1Rd8929+wWLVpUoukiIlKRyiSEAezsLgKYDgwKw4OAl2LiOWZWz8zaAu2BBaF7aZOZdQ/nBy6LK1NS10XALK/M2W4REdltKXUZmVlD4OfA1THhUcAUMxsCfAP0B3D3xWY2BfgMKAKGu3vJRcXD2HnZ6WvhAfA4MMHM8omODKrvzzlERCQlKSUEd99CdJI3NraO6KqjRNOPBEYmiOcCHRPEtxISioiI1A79uZ3Ivu72JtVcX2HS0bV9P4TqMG3aNI466ig6dOiwx+Y5btw4cnNz+etf/5rSvQ9qoo366woRqVa1fT+EeKn+DUasadOmpfwHe7WlJtqohCAi1WpP3g+huLiYm266ieOOO46srCz+8pe/AJCZmcmdd97JKaecwqhRo+jSpUtpmaVLl5b+jXRmZia33HIL3bp1o1u3buTn5zNv3jymT5/OzTffTOfOnfnyyy/Jy8uje/fuZGVlccEFF/Ddd98lbM+aNWtK6160aBFmxjfffAPAEUccwZYtW3j55Zc58cQTOf744znzzDNZvXp1wrpKfPnll/Tt25euXbty6qmn8vnnnydsY3VQl5GIVKs9eT+ERx99lGXLlvHRRx+RlpZW5g/q6tevz9y5cwF48803ycvLo3Pnzjz55JNcfvnlpdM1btyYBQsW8NRTT3HjjTcyY8YMzjvvPM4991wuuugigNJk06tXL2677TbuuOMOHnjggV3a07JlS7Zu3crGjRuZM2cO2dnZzJkzh1NOOYWWLVvSsGFDTjnlFN5//33MjMcee4zRo0fzpz/9qdxlHDp0KI888gjt27dn/vz5XHvttcyaNWuXNlYHJQSR6lbdffaV1WcKrNxac/Wv/Cj5+NUroWgrrPyIua+/wICze1Bn9ce0AnqdcBwfvDGZxgceAFsLS+vavnET1/3+PvI++wd19tuPf3z1TTRu9cqks3rzzTe55pprSu8JEHtPg4sv3vl3aFdeeSVPPvkkf/7zn5k8eXLpXcxg570LBgwYwG9+85td5lFYWMiGDRvo1asXAIMGDaJ///KvgenRowfvvvsus2fP5ne/+x2vv/467l7653QFBQVcfPHFrFq1ih9++IG2bduWW9fmzZuZN29emflt27Yt6TrZHeoyEpEak/L9EP73aVq1SGfRzEnkvjaRH7ZvT7n+8v72LPYfUy+88EJee+01ZsyYQdeuXUlP33nRZGz56vgLtVNPPZU5c+bw9ddf069fPxYtWsTcuXPp2bMnANdffz3XXXcdn3zyCX/7299K77mQyI4dOzjooIPIy8srfSxZsmS321geJQQRqVaNDmjIps3fA9CzexcmT/97dC+Cdd8xe/6HdOt8LI0ObMim77eUlincuJnWLZtH90N4/pWUTwSfddZZPPLII6U3iIntMopVv359+vTpw7Bhw3b5r6GS8xqTJ0/mpJNOipYh5p4KTZo0oWnTpsyZMweACRMmlB4tJNKzZ08mTpxI+/bt2W+//WjWrBmvvvoqJ598crSshYW0aRP9jVtFf4HduHFj2rZty3PPPQdECXDRokW7tLG6qMtIZF839J09Orv0Zgdx8gmd6XhGf84+vQdZx7Sn089zonsR/P4GDm7ZnPSmTUirU4dOZ17M5b/8D64d9EsuHHoTz82Yyeknn8ABDXe9FWYiV155Jf/4xz/Iysqibt26XHXVVVx33XUJpx04cCAvvPACZ511Vpn4tm3bOPHEE9mxYwfPPhv9GUNOTg5XXXUVY8eOZerUqYwfP55rrrmGLVu20K5dO5588sly25SZmQlQekRwyimnUFBQQNOmTYHovgj9+/enTZs2dO/enWXLliVdxqeffpphw4Zx9913s337dnJycujUqdMubTziiCNSWmfJVOp+CHsT3Q+heul+CNVnef3k19bXtCV9pnDM4S0rnvDH4pDjq6Wa+++/n8LCQu66667SWGZmJrm5uTRv3rxa5rG3qez9EHSEICL7vAsuuIAvv/wy4T2XZSclBBHZ6+3u/RDKm2758uVVbtNP+n4IIiK1RfdD2DN0lZHIPsdTvtxT9l1V2QeUEET2MfULv2Ld90VKCj9h7s66deuoX79+pcqpy0hkH5Px4X0UcAtrm7Qj8d1pf2QKa+6HWPuy+vXrk5GRUfGEMZQQRPYxdX/YQNv3K7r1+Y9IBX+3LdVHXUYiIgIoIYiISKCEICIiQIoJwcwOMrOpZva5mS0xs5PMrJmZzTSzpeG5acz0t5pZvpl9YWZ9YuJdzeyTMG6shb8WNLN6ZjY5xOebWWa1L6mIiCSV6hHC/wCvu/vPgE7AEmAE8Ja7twfeCq8xsw5ADnAs0Bd4yMzqhHoeBoYC7cOjb4gPAb5z9yOBMcB9u7lcIiJSSRUmBDNrDPQEHgdw9x/cfQPQDyj579bxwPlhuB8wyd23ufsyIB/oZmatgcbu/p5HF0g/FVempK6pQO+SowcREdkzUjlCaAesBZ40s4/M7DEzOwBo5e6rAMJzyd8rtgFWxJQvCLE2YTg+XqaMuxcBhUA6IiKyx6SSENKALsDD7n488D2he6gcib7Ze5J4sjJlKzYbama5Zpa7du3a5K0WEZFKSSUhFAAF7j4/vJ5KlCBWh24gwvOamOkPjSmfAawM8YwE8TJlzCwNaALscusjd3/U3bPdPbtFixYpNF1ERFJVYUJw938BK8zs6BDqDXwGTAcGhdgg4KUwPB3ICVcOtSU6ebwgdCttMrPu4fzAZXFlSuq6CJjl+iMWEZE9KtW/rrgeeNrM9ge+AgYTJZMpZjYE+AboD+Dui81sClHSKAKGu3vJDVKHAeOABsBr4QHRCesJZpZPdGSQs5vLJSIilZRSQnD3PCDRLdd6lzP9SGBkgngu0DFBfCshoYiISO3QL5VFRARQQhARkUAJQUREACUEEREJlBBERARQQhARkUAJQUREACUEEREJlBBERARQQhARkUAJQUREACUEEREJlBBERARQQhARkUAJQUREACUEEREJlBBERARQQhARkUAJQUREgBQTgpktN7NPzCzPzHJDrJmZzTSzpeG5acz0t5pZvpl9YWZ9YuJdQz35ZjbWzCzE65nZ5BCfb2aZ1bycIiJSgcocIZzu7p3dPTu8HgG85e7tgbfCa8ysA5ADHAv0BR4yszqhzMPAUKB9ePQN8SHAd+5+JDAGuK/qiyQiIlWxO11G/YDxYXg8cH5MfJK7b3P3ZUA+0M3MWgON3f09d3fgqbgyJXVNBXqXHD2IiMiekWpCcODvZrbQzIaGWCt3XwUQnluGeBtgRUzZghBrE4bj42XKuHsRUAikV25RRERkd6SlON3J7r7SzFoCM83s8yTTJvpm70niycqUrThKRkMBDjvssOQtFhGRSknpCMHdV4bnNcCLQDdgdegGIjyvCZMXAIfGFM8AVoZ4RoJ4mTJmlgY0AdYnaMej7p7t7tktWrRIpekiIpKiChOCmR1gZo1KhoGzgE+B6cCgMNkg4KUwPB3ICVcOtSU6ebwgdCttMrPu4fzAZXFlSuq6CJgVzjOIiMgekkqXUSvgxXCONw14xt1fN7MPgClmNgT4BugP4O6LzWwK8BlQBAx39+JQ1zBgHNAAeC08AB4HJphZPtGRQU41LJuIiFRChQnB3b8COiWIrwN6l1NmJDAyQTwX6JggvpWQUEREpHbol8oiIgIoIYiISKCEICIigBKCiIgESggiIgIoIYiISKCEICIigBKCiIgESggiIgIoIYiISKCEICIigBKCiIgESggiIgIoIYiISKCEICIigBKCiIgESggiIgIoIYiISKCEICIiQCUSgpnVMbOPzGxGeN3MzGaa2dLw3DRm2lvNLN/MvjCzPjHxrmb2SRg31swsxOuZ2eQQn29mmdW4jCIikoLKHCHcACyJeT0CeMvd2wNvhdeYWQcgBzgW6As8ZGZ1QpmHgaFA+/DoG+JDgO/c/UhgDHBflZZGRESqLKWEYGYZwC+Ax2LC/YDxYXg8cH5MfJK7b3P3ZUA+0M3MWgON3f09d3fgqbgyJXVNBXqXHD2IiMiekeoRwgPAfwE7YmKt3H0VQHhuGeJtgBUx0xWEWJswHB8vU8bdi4BCID3VhRARkd1XYUIws3OBNe6+MMU6E32z9yTxZGXi2zLUzHLNLHft2rUpNkdERFKRyhHCycB5ZrYcmAScYWYTgdWhG4jwvCZMXwAcGlM+A1gZ4hkJ4mXKmFka0ARYH98Qd3/U3bPdPbtFixYpLaCIiKSmwoTg7re6e4a7ZxKdLJ7l7r8CpgODwmSDgJfC8HQgJ1w51Jbo5PGC0K20ycy6h/MDl8WVKanrojCPXY4QRESk5qTtRtlRwBQzGwJ8A/QHcPfFZjYF+AwoAoa7e3EoMwwYBzQAXgsPgMeBCWaWT3RkkLMb7RIRkSqoVEJw93eAd8LwOqB3OdONBEYmiOcCHRPEtxISioiI1A79UllERAAlBBERCZQQREQEUEIQEZFACUFERAAlBBERCZQQREQEUEIQEZFACUFERAAlBBERCZQQREQEUEIQEZFACUFERAAlBBERCZQQREQEUEIQEZFACUFERAAlBBERCZQQREQESCEhmFl9M1tgZovMbLGZ3RHizcxsppktDc9NY8rcamb5ZvaFmfWJiXc1s0/CuLFmZiFez8wmh/h8M8usgWUVEZEkUjlC2Aac4e6dgM5AXzPrDowA3nL39sBb4TVm1gHIAY4F+gIPmVmdUNfDwFCgfXj0DfEhwHfufiQwBrhv9xdNREQqo8KE4JHN4WXd8HCgHzA+xMcD54fhfsAkd9/m7suAfKCbmbUGGrv7e+7uwFNxZUrqmgr0Ljl6EBGRPSOlcwhmVsfM8oA1wEx3nw+0cvdVAOG5ZZi8DbAipnhBiLUJw/HxMmXcvQgoBNKrsDwiIlJFKSUEdy92985ABtG3/Y5JJk/0zd6TxJOVKVux2VAzyzWz3LVr11bQahERqYxKXWXk7huAd4j6/leHbiDC85owWQFwaEyxDGBliGckiJcpY2ZpQBNgfYL5P+ru2e6e3aJFi8o0XUREKpDKVUYtzOygMNwAOBP4HJgODAqTDQJeCsPTgZxw5VBbopPHC0K30iYz6x7OD1wWV6akrouAWeE8g4iI7CFpKUzTGhgfrhTaD5ji7jPM7D1gipkNAb4B+gO4+2IzmwJ8BhQBw929ONQ1DBgHNABeCw+Ax4EJZpZPdGSQUx0LJyIiqaswIbj7x8DxCeLrgN7llBkJjEwQzwV2Of/g7lsJCUVERGqHfqksIiKAEoKIiARKCCIiAighiIhIoIQgIiKAEoKIiARKCCIiAighiIhIoIQgIiKAEoKIiARKCCIiAighiIhIoIQgIiKAEoKIiARKCCIiAighiIhIoIQgIiKAEoKIiARKCCIiAqSQEMzsUDN728yWmNliM7shxJuZ2UwzWxqem8aUudXM8s3sCzPrExPvamafhHFjzcxCvJ6ZTQ7x+WaWWQPLKiIiSaRyhFAE/Ke7HwN0B4abWQdgBPCWu7cH3gqvCeNygGOBvsBDZlYn1PUwMBRoHx59Q3wI8J27HwmMAe6rhmUTEZFKqDAhuPsqd/8wDG8ClgBtgH7A+DDZeOD8MNwPmOTu29x9GZAPdDOz1kBjd3/P3R14Kq5MSV1Tgd4lRw8iIrJnVOocQujKOR6YD7Ry91UQJQ2gZZisDbAiplhBiLUJw/HxMmXcvQgoBNIr0zYREdk9KScEMzsQeB640d03Jps0QcyTxJOViW/DUDPLNbPctWvXVtRkERGphJQSgpnVJUoGT7v7CyG8OnQDEZ7XhHgBcGhM8QxgZYhnJIiXKWNmaUATYH18O9z9UXfPdvfsFi1apNJ0ERFJUSpXGRnwOLDE3f8cM2o6MCgMDwJeionnhCuH2hKdPF4QupU2mVn3UOdlcWVK6roImBXOM4iIyB6SlsI0JwOXAp+YWV6I/Q4YBUwxsyHAN0B/AHdfbGZTgM+IrlAa7u7FodwwYBzQAHgtPCBKOBPMLJ/oyCBn9xZLREQqq8KE4O5zSdzHD9C7nDIjgZEJ4rlAxwTxrYSEIiIitUO/VBYREUAJQUREAiUEEREBlBBERCRQQhAREUAJQUREAiUEEREBlBBERCRQQhAREUAJQUREAiUEEREBlBBERCRQQhAREUAJQUREAiUEEREBlBBERCRQQhAREUAJQUREAiUEEREBlBBERCSoMCGY2RNmtsbMPo2JNTOzmWa2NDw3jRl3q5nlm9kXZtYnJt7VzD4J48aamYV4PTObHOLzzSyzmpdRRERSkMoRwjigb1xsBPCWu7cH3gqvMbMOQA5wbCjzkJnVCWUeBoYC7cOjpM4hwHfufiQwBrivqgsjIiJVV2FCcPfZwPq4cD9gfBgeD5wfE5/k7tvcfRmQD3Qzs9ZAY3d/z90deCquTEldU4HeJUcPIiKy51T1HEIrd18FEJ5bhngbYEXMdAUh1iYMx8fLlHH3IqAQSE80UzMbama5Zpa7du3aKjZdREQSqe6Tyom+2XuSeLIyuwbdH3X3bHfPbtGiRRWbKCIiiVQ1IawO3UCE5zUhXgAcGjNdBrAyxDMSxMuUMbM0oAm7dlGJiEgNq2pCmA4MCsODgJdi4jnhyqG2RCePF4RupU1m1j2cH7gsrkxJXRcBs8J5BhER2YPSKprAzJ4FTgOam1kB8EdgFDDFzIYA3wD9Adx9sZlNAT4DioDh7l4cqhpGdMVSA+C18AB4HJhgZvlERwY51bJkIiJSKRUmBHcfUM6o3uVMPxIYmSCeC3RMEN9KSCgiIlJ79EtlEREBlBBERCRQQhAREUAJQUREAiUEEREBlBBERCRQQhAREUAJQUREAiUEEREBlBBERCRQQhAREUAJQUREAiUEEREBlBBERCRQQhAREUAJQUREAiUEEREBlBBERCRQQhAREWAvSghm1tfMvjCzfDMbUdvtERH5qdkrEoKZ1QEeBM4GOgADzKxD7bZKROSnZa9ICEA3IN/dv3L3H4BJQL9abpOIyE9KWm03IGgDrIh5XQCcGD+RmQ0FhoaXm83siz3QNpFKMWgOfFvb7dhn3GG13YJ9zeHljdhbEkKiLe67BNwfBR6t+eaIVJ2Z5bp7dm23Q6Sy9pYuowLg0JjXGcDKWmqLiMhP0t6SED4A2ptZWzPbH8gBptdym0REflL2ii4jdy8ys+uAN4A6wBPuvriWmyVSVerWlB8lc9+lq15ERH6C9pYuIxERqWVKCCIiAighiIhIsFecVBb5MTOznxH9sr4N0e9nVgLT3X1JrTZMpJJ0hCCyG8zsFqK/WjFgAdEl1AY8qz9plB8bXWUkshvM7B/Ase6+PS6+P7DY3dvXTstEKk9HCCK7ZwdwSIJ46zBO5EdD5xBEds+NwFtmtpSdf9B4GHAkcF1tNUqkKtRlJLKbzGw/or9wb0N0/qAA+MDdi2u1YSKVpIQgIiKAziGIiEighCAiIoASgoiIBEoIIiICKCGIiEjw/wG25c89Y2nq/AAAAABJRU5ErkJggg==\n",
      "text/plain": [
       "<Figure size 432x288 with 1 Axes>"
      ]
     },
     "metadata": {
      "needs_background": "light"
     },
     "output_type": "display_data"
    }
   ],
   "source": [
    "# Plot the total value of the member's portfolio (crypto and stock/bond) in a pie chart\n",
    "portfolio_value_df.plot(kind=\"bar\", title=\"Current Value in Dollars of the savings portfolio\")\n"
   ]
  },
  {
   "cell_type": "markdown",
   "metadata": {},
   "source": [
    "#### Step 4: Using Python, determine if the current portfolio has enough to create an emergency fund as part of the member’s financial plan. Ideally, an emergency fund should equal to three times the member’s monthly income. To do this, implement the following steps:\n",
    "\n",
    "Step 1. Create a variable named `emergency_fund_value`, and set it equal to three times the value of the member’s `monthly_income` of 12000. (You set this earlier in Part 1).\n",
    "\n",
    "Step 2. Create a series of three if statements to determine if the member’s total portfolio is large enough to fund the emergency portfolio:\n",
    "\n",
    "* If the total portfolio value is greater than the emergency fund value, display a message congratulating the member for having enough money in this fund.\n",
    "\n",
    "* Else if the total portfolio value is equal to the emergency fund value, display a message congratulating the member on reaching this important financial goal.\n",
    "\n",
    "* Else the total portfolio is less than the emergency fund value, so display a message showing how many dollars away the member is from reaching the goal. (Subtract the total portfolio value from the emergency fund value.)\n"
   ]
  },
  {
   "cell_type": "markdown",
   "metadata": {},
   "source": [
    "##### Step 4-1: Create a variable named `emergency_fund_value`, and set it equal to three times the value of the member’s `monthly_income` of 12000. (You set this earlier in Part 1)."
   ]
  },
  {
   "cell_type": "code",
   "execution_count": 47,
   "metadata": {},
   "outputs": [],
   "source": [
    "# Create a variable named emergency_fund_value\n",
    "emergency_fund_value = monthly_income\n"
   ]
  },
  {
   "cell_type": "markdown",
   "metadata": {},
   "source": [
    "##### Step 4-2: Create a series of three if statements to determine if the member’s total portfolio is large enough to fund the emergency portfolio:\n",
    "\n",
    "* If the total portfolio value is greater than the emergency fund value, display a message congratulating the member for having enough money in this fund.\n",
    "\n",
    "* Else if the total portfolio value is equal to the emergency fund value, display a message congratulating the member on reaching this important financial goal.\n",
    "\n",
    "* Else the total portfolio is less than the emergency fund value, so display a message showing how many dollars away the member is from reaching the goal. (Subtract the total portfolio value from the emergency fund value.)"
   ]
  },
  {
   "cell_type": "code",
   "execution_count": 48,
   "metadata": {},
   "outputs": [
    {
     "ename": "SyntaxError",
     "evalue": "invalid syntax (CreatorTemp/ipykernel_56464/3348735782.py, line 4)",
     "output_type": "error",
     "traceback": [
      "\u001b[1;36m  File \u001b[1;32m\"C:\\Users\\Public\\Documents\\Wondershare\\CreatorTemp/ipykernel_56464/3348735782.py\"\u001b[1;36m, line \u001b[1;32m4\u001b[0m\n\u001b[1;33m    if total_portfolio = emergency_fund_value:\u001b[0m\n\u001b[1;37m                       ^\u001b[0m\n\u001b[1;31mSyntaxError\u001b[0m\u001b[1;31m:\u001b[0m invalid syntax\n"
     ]
    }
   ],
   "source": [
    "# Evaluate the possibility of creating an emergency fund with 3 conditions:\n",
    "if total_portfolio > emergency_fund_value:\n",
    "    print(f\"Congratulations, you have enough money in this fund\")\n",
    "if total_portfolio = emergency_fund_value:\n",
    "    print(f\"Congratulations, for reaching this important financial goal\")\n",
    "if total_portfolio < emergency_fund_value\n",
    "    print(f\"You are ${total_portfolio - emergency_fund_value}\" \"away from reaching the goal\")"
   ]
  },
  {
   "cell_type": "markdown",
   "metadata": {},
   "source": [
    "## Part 2: Create a Financial Planner for Retirement"
   ]
  },
  {
   "cell_type": "markdown",
   "metadata": {},
   "source": [
    "### Create the Monte Carlo Simulation\n",
    "\n",
    "In this section, you’ll use the MCForecastTools library to create a Monte Carlo simulation for the member’s savings portfolio. To do this, complete the following steps:\n",
    "\n",
    "1. Make an API call via the Alpaca SDK to get 3 years of historical closing prices for a traditional 60/40 portfolio split: 60% stocks (SPY) and 40% bonds (AGG).\n",
    "\n",
    "2. Run a Monte Carlo simulation of 500 samples and 30 years for the 60/40 portfolio, and then plot the results.The following image shows the overlay line plot resulting from a simulation with these characteristics. However, because a random number generator is used to run each live Monte Carlo simulation, your image will differ slightly from this exact image:\n",
    "\n",
    "![A screenshot depicts the resulting plot.](Images/5-4-monte-carlo-line-plot.png)\n",
    "\n",
    "3. Plot the probability distribution of the Monte Carlo simulation. Plot the probability distribution of the Monte Carlo simulation. The following image shows the histogram plot resulting from a simulation with these characteristics. However, because a random number generator is used to run each live Monte Carlo simulation, your image will differ slightly from this exact image:\n",
    "\n",
    "![A screenshot depicts the histogram plot.](Images/5-4-monte-carlo-histogram.png)\n",
    "\n",
    "4. Generate the summary statistics for the Monte Carlo simulation.\n",
    "\n"
   ]
  },
  {
   "cell_type": "markdown",
   "metadata": {},
   "source": [
    "#### Step 1: Make an API call via the Alpaca SDK to get 3 years of historical closing prices for a traditional 60/40 portfolio split: 60% stocks (SPY) and 40% bonds (AGG)."
   ]
  },
  {
   "cell_type": "code",
   "execution_count": 49,
   "metadata": {},
   "outputs": [],
   "source": [
    "# Set start and end dates of 3 years back from your current date\n",
    "# Alternatively, you can use an end date of 2020-08-07 and work 3 years back from that date \n",
    "start_date_three = pd.Timestamp('2019-01-10', tz=\"America/New_York\").isoformat()\n",
    "end_date_three = pd.Timestamp(\"2022-01-10\", tz=\"America/New_York\").isoformat()\n",
    "# Set number of rows to 1000 to retrieve the maximum amount of rows\n",
    "limit_rows = 1000"
   ]
  },
  {
   "cell_type": "code",
   "execution_count": 50,
   "metadata": {},
   "outputs": [
    {
     "data": {
      "text/html": [
       "<div>\n",
       "<style scoped>\n",
       "    .dataframe tbody tr th:only-of-type {\n",
       "        vertical-align: middle;\n",
       "    }\n",
       "\n",
       "    .dataframe tbody tr th {\n",
       "        vertical-align: top;\n",
       "    }\n",
       "\n",
       "    .dataframe thead tr th {\n",
       "        text-align: left;\n",
       "    }\n",
       "\n",
       "    .dataframe thead tr:last-of-type th {\n",
       "        text-align: right;\n",
       "    }\n",
       "</style>\n",
       "<table border=\"1\" class=\"dataframe\">\n",
       "  <thead>\n",
       "    <tr>\n",
       "      <th></th>\n",
       "      <th colspan=\"5\" halign=\"left\">AGG</th>\n",
       "      <th colspan=\"5\" halign=\"left\">SPY</th>\n",
       "    </tr>\n",
       "    <tr>\n",
       "      <th></th>\n",
       "      <th>open</th>\n",
       "      <th>high</th>\n",
       "      <th>low</th>\n",
       "      <th>close</th>\n",
       "      <th>volume</th>\n",
       "      <th>open</th>\n",
       "      <th>high</th>\n",
       "      <th>low</th>\n",
       "      <th>close</th>\n",
       "      <th>volume</th>\n",
       "    </tr>\n",
       "    <tr>\n",
       "      <th>time</th>\n",
       "      <th></th>\n",
       "      <th></th>\n",
       "      <th></th>\n",
       "      <th></th>\n",
       "      <th></th>\n",
       "      <th></th>\n",
       "      <th></th>\n",
       "      <th></th>\n",
       "      <th></th>\n",
       "      <th></th>\n",
       "    </tr>\n",
       "  </thead>\n",
       "  <tbody>\n",
       "    <tr>\n",
       "      <th>2019-01-10 00:00:00-05:00</th>\n",
       "      <td>106.52</td>\n",
       "      <td>106.5600</td>\n",
       "      <td>106.33</td>\n",
       "      <td>106.385</td>\n",
       "      <td>3441214</td>\n",
       "      <td>256.26</td>\n",
       "      <td>259.1600</td>\n",
       "      <td>255.50</td>\n",
       "      <td>258.94</td>\n",
       "      <td>85909797</td>\n",
       "    </tr>\n",
       "    <tr>\n",
       "      <th>2019-01-11 00:00:00-05:00</th>\n",
       "      <td>106.58</td>\n",
       "      <td>106.6600</td>\n",
       "      <td>106.50</td>\n",
       "      <td>106.560</td>\n",
       "      <td>5638395</td>\n",
       "      <td>257.68</td>\n",
       "      <td>259.0098</td>\n",
       "      <td>257.03</td>\n",
       "      <td>258.76</td>\n",
       "      <td>60544770</td>\n",
       "    </tr>\n",
       "    <tr>\n",
       "      <th>2019-01-14 00:00:00-05:00</th>\n",
       "      <td>106.57</td>\n",
       "      <td>106.6099</td>\n",
       "      <td>106.40</td>\n",
       "      <td>106.440</td>\n",
       "      <td>6544627</td>\n",
       "      <td>256.86</td>\n",
       "      <td>258.3000</td>\n",
       "      <td>256.41</td>\n",
       "      <td>257.69</td>\n",
       "      <td>51552561</td>\n",
       "    </tr>\n",
       "    <tr>\n",
       "      <th>2019-01-15 00:00:00-05:00</th>\n",
       "      <td>106.54</td>\n",
       "      <td>106.5500</td>\n",
       "      <td>106.33</td>\n",
       "      <td>106.400</td>\n",
       "      <td>3370918</td>\n",
       "      <td>257.82</td>\n",
       "      <td>260.7000</td>\n",
       "      <td>257.25</td>\n",
       "      <td>260.21</td>\n",
       "      <td>72130969</td>\n",
       "    </tr>\n",
       "    <tr>\n",
       "      <th>2019-01-16 00:00:00-05:00</th>\n",
       "      <td>106.33</td>\n",
       "      <td>106.5200</td>\n",
       "      <td>105.75</td>\n",
       "      <td>106.475</td>\n",
       "      <td>3531236</td>\n",
       "      <td>260.83</td>\n",
       "      <td>261.9666</td>\n",
       "      <td>260.60</td>\n",
       "      <td>260.94</td>\n",
       "      <td>59299089</td>\n",
       "    </tr>\n",
       "  </tbody>\n",
       "</table>\n",
       "</div>"
      ],
      "text/plain": [
       "                              AGG                                         SPY  \\\n",
       "                             open      high     low    close   volume    open   \n",
       "time                                                                            \n",
       "2019-01-10 00:00:00-05:00  106.52  106.5600  106.33  106.385  3441214  256.26   \n",
       "2019-01-11 00:00:00-05:00  106.58  106.6600  106.50  106.560  5638395  257.68   \n",
       "2019-01-14 00:00:00-05:00  106.57  106.6099  106.40  106.440  6544627  256.86   \n",
       "2019-01-15 00:00:00-05:00  106.54  106.5500  106.33  106.400  3370918  257.82   \n",
       "2019-01-16 00:00:00-05:00  106.33  106.5200  105.75  106.475  3531236  260.83   \n",
       "\n",
       "                                                               \n",
       "                               high     low   close    volume  \n",
       "time                                                           \n",
       "2019-01-10 00:00:00-05:00  259.1600  255.50  258.94  85909797  \n",
       "2019-01-11 00:00:00-05:00  259.0098  257.03  258.76  60544770  \n",
       "2019-01-14 00:00:00-05:00  258.3000  256.41  257.69  51552561  \n",
       "2019-01-15 00:00:00-05:00  260.7000  257.25  260.21  72130969  \n",
       "2019-01-16 00:00:00-05:00  261.9666  260.60  260.94  59299089  "
      ]
     },
     "metadata": {},
     "output_type": "display_data"
    },
    {
     "data": {
      "text/html": [
       "<div>\n",
       "<style scoped>\n",
       "    .dataframe tbody tr th:only-of-type {\n",
       "        vertical-align: middle;\n",
       "    }\n",
       "\n",
       "    .dataframe tbody tr th {\n",
       "        vertical-align: top;\n",
       "    }\n",
       "\n",
       "    .dataframe thead tr th {\n",
       "        text-align: left;\n",
       "    }\n",
       "\n",
       "    .dataframe thead tr:last-of-type th {\n",
       "        text-align: right;\n",
       "    }\n",
       "</style>\n",
       "<table border=\"1\" class=\"dataframe\">\n",
       "  <thead>\n",
       "    <tr>\n",
       "      <th></th>\n",
       "      <th colspan=\"5\" halign=\"left\">AGG</th>\n",
       "      <th colspan=\"5\" halign=\"left\">SPY</th>\n",
       "    </tr>\n",
       "    <tr>\n",
       "      <th></th>\n",
       "      <th>open</th>\n",
       "      <th>high</th>\n",
       "      <th>low</th>\n",
       "      <th>close</th>\n",
       "      <th>volume</th>\n",
       "      <th>open</th>\n",
       "      <th>high</th>\n",
       "      <th>low</th>\n",
       "      <th>close</th>\n",
       "      <th>volume</th>\n",
       "    </tr>\n",
       "    <tr>\n",
       "      <th>time</th>\n",
       "      <th></th>\n",
       "      <th></th>\n",
       "      <th></th>\n",
       "      <th></th>\n",
       "      <th></th>\n",
       "      <th></th>\n",
       "      <th></th>\n",
       "      <th></th>\n",
       "      <th></th>\n",
       "      <th></th>\n",
       "    </tr>\n",
       "  </thead>\n",
       "  <tbody>\n",
       "    <tr>\n",
       "      <th>2022-01-04 00:00:00-05:00</th>\n",
       "      <td>113.22</td>\n",
       "      <td>113.300</td>\n",
       "      <td>113.0750</td>\n",
       "      <td>113.29</td>\n",
       "      <td>7615698</td>\n",
       "      <td>479.22</td>\n",
       "      <td>479.98</td>\n",
       "      <td>475.5800</td>\n",
       "      <td>477.51</td>\n",
       "      <td>59093344</td>\n",
       "    </tr>\n",
       "    <tr>\n",
       "      <th>2022-01-05 00:00:00-05:00</th>\n",
       "      <td>113.34</td>\n",
       "      <td>113.360</td>\n",
       "      <td>112.9000</td>\n",
       "      <td>112.93</td>\n",
       "      <td>7686662</td>\n",
       "      <td>477.16</td>\n",
       "      <td>477.98</td>\n",
       "      <td>468.2801</td>\n",
       "      <td>468.38</td>\n",
       "      <td>87411658</td>\n",
       "    </tr>\n",
       "    <tr>\n",
       "      <th>2022-01-06 00:00:00-05:00</th>\n",
       "      <td>112.75</td>\n",
       "      <td>112.840</td>\n",
       "      <td>112.6600</td>\n",
       "      <td>112.81</td>\n",
       "      <td>6812819</td>\n",
       "      <td>467.89</td>\n",
       "      <td>470.82</td>\n",
       "      <td>465.4300</td>\n",
       "      <td>467.93</td>\n",
       "      <td>78577470</td>\n",
       "    </tr>\n",
       "    <tr>\n",
       "      <th>2022-01-07 00:00:00-05:00</th>\n",
       "      <td>112.69</td>\n",
       "      <td>112.705</td>\n",
       "      <td>112.3400</td>\n",
       "      <td>112.50</td>\n",
       "      <td>8338975</td>\n",
       "      <td>467.95</td>\n",
       "      <td>469.20</td>\n",
       "      <td>464.6500</td>\n",
       "      <td>466.12</td>\n",
       "      <td>67943055</td>\n",
       "    </tr>\n",
       "    <tr>\n",
       "      <th>2022-01-10 00:00:00-05:00</th>\n",
       "      <td>112.23</td>\n",
       "      <td>112.420</td>\n",
       "      <td>112.1427</td>\n",
       "      <td>112.41</td>\n",
       "      <td>6475269</td>\n",
       "      <td>462.70</td>\n",
       "      <td>465.74</td>\n",
       "      <td>456.5973</td>\n",
       "      <td>465.56</td>\n",
       "      <td>106360848</td>\n",
       "    </tr>\n",
       "  </tbody>\n",
       "</table>\n",
       "</div>"
      ],
      "text/plain": [
       "                              AGG                                         SPY  \\\n",
       "                             open     high       low   close   volume    open   \n",
       "time                                                                            \n",
       "2022-01-04 00:00:00-05:00  113.22  113.300  113.0750  113.29  7615698  479.22   \n",
       "2022-01-05 00:00:00-05:00  113.34  113.360  112.9000  112.93  7686662  477.16   \n",
       "2022-01-06 00:00:00-05:00  112.75  112.840  112.6600  112.81  6812819  467.89   \n",
       "2022-01-07 00:00:00-05:00  112.69  112.705  112.3400  112.50  8338975  467.95   \n",
       "2022-01-10 00:00:00-05:00  112.23  112.420  112.1427  112.41  6475269  462.70   \n",
       "\n",
       "                                                                \n",
       "                             high       low   close     volume  \n",
       "time                                                            \n",
       "2022-01-04 00:00:00-05:00  479.98  475.5800  477.51   59093344  \n",
       "2022-01-05 00:00:00-05:00  477.98  468.2801  468.38   87411658  \n",
       "2022-01-06 00:00:00-05:00  470.82  465.4300  467.93   78577470  \n",
       "2022-01-07 00:00:00-05:00  469.20  464.6500  466.12   67943055  \n",
       "2022-01-10 00:00:00-05:00  465.74  456.5973  465.56  106360848  "
      ]
     },
     "metadata": {},
     "output_type": "display_data"
    }
   ],
   "source": [
    "# Use the Alpaca get_barset function to make the API call to get the 3 years worth of pricing data\n",
    "# The tickers and timeframe parameters should have been set in Part 1 of this activity \n",
    "# The start and end dates should be updated with the information set above\n",
    "# Remember to add the df property to the end of the call so the response is returned as a DataFrame\n",
    "three_year = alpaca.get_barset(\n",
    "    tickers,\n",
    "    timeframe,\n",
    "    start=start_date_three,\n",
    "    end=end_date_three,\n",
    "    limit=limit_rows\n",
    ").df\n",
    "\n",
    "\n",
    "# Display both the first and last five rows of the DataFrame\n",
    "display(three_year.head())\n",
    "display(three_year.tail())\n"
   ]
  },
  {
   "cell_type": "markdown",
   "metadata": {},
   "source": [
    "#### Step 2: Run a Monte Carlo simulation of 500 samples and 30 years for the 60/40 portfolio, and then plot the results."
   ]
  },
  {
   "cell_type": "code",
   "execution_count": 51,
   "metadata": {},
   "outputs": [
    {
     "data": {
      "text/html": [
       "<div>\n",
       "<style scoped>\n",
       "    .dataframe tbody tr th:only-of-type {\n",
       "        vertical-align: middle;\n",
       "    }\n",
       "\n",
       "    .dataframe tbody tr th {\n",
       "        vertical-align: top;\n",
       "    }\n",
       "\n",
       "    .dataframe thead tr th {\n",
       "        text-align: left;\n",
       "    }\n",
       "\n",
       "    .dataframe thead tr:last-of-type th {\n",
       "        text-align: right;\n",
       "    }\n",
       "</style>\n",
       "<table border=\"1\" class=\"dataframe\">\n",
       "  <thead>\n",
       "    <tr>\n",
       "      <th></th>\n",
       "      <th colspan=\"6\" halign=\"left\">AGG</th>\n",
       "      <th colspan=\"6\" halign=\"left\">SPY</th>\n",
       "    </tr>\n",
       "    <tr>\n",
       "      <th></th>\n",
       "      <th>open</th>\n",
       "      <th>high</th>\n",
       "      <th>low</th>\n",
       "      <th>close</th>\n",
       "      <th>volume</th>\n",
       "      <th>daily_return</th>\n",
       "      <th>open</th>\n",
       "      <th>high</th>\n",
       "      <th>low</th>\n",
       "      <th>close</th>\n",
       "      <th>volume</th>\n",
       "      <th>daily_return</th>\n",
       "    </tr>\n",
       "    <tr>\n",
       "      <th>time</th>\n",
       "      <th></th>\n",
       "      <th></th>\n",
       "      <th></th>\n",
       "      <th></th>\n",
       "      <th></th>\n",
       "      <th></th>\n",
       "      <th></th>\n",
       "      <th></th>\n",
       "      <th></th>\n",
       "      <th></th>\n",
       "      <th></th>\n",
       "      <th></th>\n",
       "    </tr>\n",
       "  </thead>\n",
       "  <tbody>\n",
       "    <tr>\n",
       "      <th>2018-01-23 00:00:00-05:00</th>\n",
       "      <td>108.33</td>\n",
       "      <td>108.4401</td>\n",
       "      <td>108.29</td>\n",
       "      <td>108.39</td>\n",
       "      <td>3488873</td>\n",
       "      <td>NaN</td>\n",
       "      <td>282.74</td>\n",
       "      <td>283.62</td>\n",
       "      <td>282.370</td>\n",
       "      <td>283.26</td>\n",
       "      <td>53406595</td>\n",
       "      <td>NaN</td>\n",
       "    </tr>\n",
       "    <tr>\n",
       "      <th>2018-01-24 00:00:00-05:00</th>\n",
       "      <td>108.25</td>\n",
       "      <td>108.3200</td>\n",
       "      <td>108.15</td>\n",
       "      <td>108.28</td>\n",
       "      <td>2004492</td>\n",
       "      <td>-0.001015</td>\n",
       "      <td>283.99</td>\n",
       "      <td>284.70</td>\n",
       "      <td>281.840</td>\n",
       "      <td>283.18</td>\n",
       "      <td>77334662</td>\n",
       "      <td>-0.000282</td>\n",
       "    </tr>\n",
       "    <tr>\n",
       "      <th>2018-01-25 00:00:00-05:00</th>\n",
       "      <td>108.26</td>\n",
       "      <td>108.5700</td>\n",
       "      <td>108.19</td>\n",
       "      <td>108.56</td>\n",
       "      <td>9339661</td>\n",
       "      <td>0.002586</td>\n",
       "      <td>284.16</td>\n",
       "      <td>284.27</td>\n",
       "      <td>282.405</td>\n",
       "      <td>283.28</td>\n",
       "      <td>51821059</td>\n",
       "      <td>0.000353</td>\n",
       "    </tr>\n",
       "    <tr>\n",
       "      <th>2018-01-26 00:00:00-05:00</th>\n",
       "      <td>108.51</td>\n",
       "      <td>108.5100</td>\n",
       "      <td>108.27</td>\n",
       "      <td>108.38</td>\n",
       "      <td>2226605</td>\n",
       "      <td>-0.001658</td>\n",
       "      <td>284.27</td>\n",
       "      <td>286.58</td>\n",
       "      <td>283.960</td>\n",
       "      <td>286.57</td>\n",
       "      <td>56613904</td>\n",
       "      <td>0.011614</td>\n",
       "    </tr>\n",
       "    <tr>\n",
       "      <th>2018-01-29 00:00:00-05:00</th>\n",
       "      <td>108.14</td>\n",
       "      <td>108.2100</td>\n",
       "      <td>108.02</td>\n",
       "      <td>108.19</td>\n",
       "      <td>3532887</td>\n",
       "      <td>-0.001753</td>\n",
       "      <td>285.97</td>\n",
       "      <td>286.43</td>\n",
       "      <td>284.500</td>\n",
       "      <td>284.68</td>\n",
       "      <td>60825439</td>\n",
       "      <td>-0.006595</td>\n",
       "    </tr>\n",
       "  </tbody>\n",
       "</table>\n",
       "</div>"
      ],
      "text/plain": [
       "                              AGG                                     \\\n",
       "                             open      high     low   close   volume   \n",
       "time                                                                   \n",
       "2018-01-23 00:00:00-05:00  108.33  108.4401  108.29  108.39  3488873   \n",
       "2018-01-24 00:00:00-05:00  108.25  108.3200  108.15  108.28  2004492   \n",
       "2018-01-25 00:00:00-05:00  108.26  108.5700  108.19  108.56  9339661   \n",
       "2018-01-26 00:00:00-05:00  108.51  108.5100  108.27  108.38  2226605   \n",
       "2018-01-29 00:00:00-05:00  108.14  108.2100  108.02  108.19  3532887   \n",
       "\n",
       "                                           SPY                           \\\n",
       "                          daily_return    open    high      low   close   \n",
       "time                                                                      \n",
       "2018-01-23 00:00:00-05:00          NaN  282.74  283.62  282.370  283.26   \n",
       "2018-01-24 00:00:00-05:00    -0.001015  283.99  284.70  281.840  283.18   \n",
       "2018-01-25 00:00:00-05:00     0.002586  284.16  284.27  282.405  283.28   \n",
       "2018-01-26 00:00:00-05:00    -0.001658  284.27  286.58  283.960  286.57   \n",
       "2018-01-29 00:00:00-05:00    -0.001753  285.97  286.43  284.500  284.68   \n",
       "\n",
       "                                                  \n",
       "                             volume daily_return  \n",
       "time                                              \n",
       "2018-01-23 00:00:00-05:00  53406595          NaN  \n",
       "2018-01-24 00:00:00-05:00  77334662    -0.000282  \n",
       "2018-01-25 00:00:00-05:00  51821059     0.000353  \n",
       "2018-01-26 00:00:00-05:00  56613904     0.011614  \n",
       "2018-01-29 00:00:00-05:00  60825439    -0.006595  "
      ]
     },
     "execution_count": 51,
     "metadata": {},
     "output_type": "execute_result"
    }
   ],
   "source": [
    "# Configure the Monte Carlo simulation to forecast 30 years cumulative returns\n",
    "# The weights should be split 40% to AGG and 60% to SPY.\n",
    "# Run 500 samples.\n",
    "MC_weight = MCSimulation(\n",
    "    portfolio_data = prices_df,\n",
    "    weights = [.40, .60],\n",
    "    num_simulation = 500,\n",
    "    num_trading_days = 252*30\n",
    ")\n",
    "\n",
    "# Review the simulation input data\n",
    "MC_weight.portfolio_data.head()\n"
   ]
  },
  {
   "cell_type": "code",
   "execution_count": 52,
   "metadata": {},
   "outputs": [
    {
     "name": "stdout",
     "output_type": "stream",
     "text": [
      "Running Monte Carlo simulation number 0.\n",
      "Running Monte Carlo simulation number 10.\n",
      "Running Monte Carlo simulation number 20.\n",
      "Running Monte Carlo simulation number 30.\n",
      "Running Monte Carlo simulation number 40.\n",
      "Running Monte Carlo simulation number 50.\n",
      "Running Monte Carlo simulation number 60.\n",
      "Running Monte Carlo simulation number 70.\n",
      "Running Monte Carlo simulation number 80.\n",
      "Running Monte Carlo simulation number 90.\n",
      "Running Monte Carlo simulation number 100.\n"
     ]
    },
    {
     "name": "stderr",
     "output_type": "stream",
     "text": [
      "C:\\Users\\Hanadi Seed Ahmed\\Desktop\\M5\\MCForecastTools.py:117: PerformanceWarning: DataFrame is highly fragmented.  This is usually the result of calling `frame.insert` many times, which has poor performance.  Consider joining all columns at once using pd.concat(axis=1) instead.  To get a de-fragmented frame, use `newframe = frame.copy()`\n",
      "  portfolio_cumulative_returns[n] = (1 + sim_df.fillna(0)).cumprod()\n"
     ]
    },
    {
     "name": "stdout",
     "output_type": "stream",
     "text": [
      "Running Monte Carlo simulation number 110.\n",
      "Running Monte Carlo simulation number 120.\n",
      "Running Monte Carlo simulation number 130.\n",
      "Running Monte Carlo simulation number 140.\n",
      "Running Monte Carlo simulation number 150.\n",
      "Running Monte Carlo simulation number 160.\n",
      "Running Monte Carlo simulation number 170.\n",
      "Running Monte Carlo simulation number 180.\n",
      "Running Monte Carlo simulation number 190.\n",
      "Running Monte Carlo simulation number 200.\n",
      "Running Monte Carlo simulation number 210.\n",
      "Running Monte Carlo simulation number 220.\n",
      "Running Monte Carlo simulation number 230.\n",
      "Running Monte Carlo simulation number 240.\n",
      "Running Monte Carlo simulation number 250.\n",
      "Running Monte Carlo simulation number 260.\n",
      "Running Monte Carlo simulation number 270.\n",
      "Running Monte Carlo simulation number 280.\n",
      "Running Monte Carlo simulation number 290.\n",
      "Running Monte Carlo simulation number 300.\n",
      "Running Monte Carlo simulation number 310.\n",
      "Running Monte Carlo simulation number 320.\n",
      "Running Monte Carlo simulation number 330.\n",
      "Running Monte Carlo simulation number 340.\n",
      "Running Monte Carlo simulation number 350.\n",
      "Running Monte Carlo simulation number 360.\n",
      "Running Monte Carlo simulation number 370.\n",
      "Running Monte Carlo simulation number 380.\n",
      "Running Monte Carlo simulation number 390.\n",
      "Running Monte Carlo simulation number 400.\n",
      "Running Monte Carlo simulation number 410.\n",
      "Running Monte Carlo simulation number 420.\n",
      "Running Monte Carlo simulation number 430.\n",
      "Running Monte Carlo simulation number 440.\n",
      "Running Monte Carlo simulation number 450.\n",
      "Running Monte Carlo simulation number 460.\n",
      "Running Monte Carlo simulation number 470.\n",
      "Running Monte Carlo simulation number 480.\n",
      "Running Monte Carlo simulation number 490.\n"
     ]
    },
    {
     "data": {
      "text/html": [
       "<div>\n",
       "<style scoped>\n",
       "    .dataframe tbody tr th:only-of-type {\n",
       "        vertical-align: middle;\n",
       "    }\n",
       "\n",
       "    .dataframe tbody tr th {\n",
       "        vertical-align: top;\n",
       "    }\n",
       "\n",
       "    .dataframe thead th {\n",
       "        text-align: right;\n",
       "    }\n",
       "</style>\n",
       "<table border=\"1\" class=\"dataframe\">\n",
       "  <thead>\n",
       "    <tr style=\"text-align: right;\">\n",
       "      <th></th>\n",
       "      <th>0</th>\n",
       "      <th>1</th>\n",
       "      <th>2</th>\n",
       "      <th>3</th>\n",
       "      <th>4</th>\n",
       "      <th>5</th>\n",
       "      <th>6</th>\n",
       "      <th>7</th>\n",
       "      <th>8</th>\n",
       "      <th>9</th>\n",
       "      <th>...</th>\n",
       "      <th>490</th>\n",
       "      <th>491</th>\n",
       "      <th>492</th>\n",
       "      <th>493</th>\n",
       "      <th>494</th>\n",
       "      <th>495</th>\n",
       "      <th>496</th>\n",
       "      <th>497</th>\n",
       "      <th>498</th>\n",
       "      <th>499</th>\n",
       "    </tr>\n",
       "  </thead>\n",
       "  <tbody>\n",
       "    <tr>\n",
       "      <th>0</th>\n",
       "      <td>1.000000</td>\n",
       "      <td>1.000000</td>\n",
       "      <td>1.000000</td>\n",
       "      <td>1.000000</td>\n",
       "      <td>1.000000</td>\n",
       "      <td>1.000000</td>\n",
       "      <td>1.000000</td>\n",
       "      <td>1.000000</td>\n",
       "      <td>1.000000</td>\n",
       "      <td>1.000000</td>\n",
       "      <td>...</td>\n",
       "      <td>1.000000</td>\n",
       "      <td>1.000000</td>\n",
       "      <td>1.000000</td>\n",
       "      <td>1.000000</td>\n",
       "      <td>1.000000</td>\n",
       "      <td>1.000000</td>\n",
       "      <td>1.000000</td>\n",
       "      <td>1.000000</td>\n",
       "      <td>1.000000</td>\n",
       "      <td>1.000000</td>\n",
       "    </tr>\n",
       "    <tr>\n",
       "      <th>1</th>\n",
       "      <td>1.007478</td>\n",
       "      <td>1.009711</td>\n",
       "      <td>0.991707</td>\n",
       "      <td>0.992314</td>\n",
       "      <td>1.005169</td>\n",
       "      <td>0.994274</td>\n",
       "      <td>0.999741</td>\n",
       "      <td>1.007519</td>\n",
       "      <td>0.994432</td>\n",
       "      <td>1.004557</td>\n",
       "      <td>...</td>\n",
       "      <td>1.001267</td>\n",
       "      <td>1.001462</td>\n",
       "      <td>1.010505</td>\n",
       "      <td>1.002777</td>\n",
       "      <td>1.001070</td>\n",
       "      <td>0.989839</td>\n",
       "      <td>0.998396</td>\n",
       "      <td>0.990597</td>\n",
       "      <td>0.995849</td>\n",
       "      <td>0.997638</td>\n",
       "    </tr>\n",
       "    <tr>\n",
       "      <th>2</th>\n",
       "      <td>1.014061</td>\n",
       "      <td>1.011786</td>\n",
       "      <td>0.986429</td>\n",
       "      <td>1.001470</td>\n",
       "      <td>1.009033</td>\n",
       "      <td>0.998725</td>\n",
       "      <td>0.998775</td>\n",
       "      <td>1.000027</td>\n",
       "      <td>0.997919</td>\n",
       "      <td>1.000608</td>\n",
       "      <td>...</td>\n",
       "      <td>1.002466</td>\n",
       "      <td>1.005783</td>\n",
       "      <td>0.999964</td>\n",
       "      <td>1.008312</td>\n",
       "      <td>0.987480</td>\n",
       "      <td>1.006020</td>\n",
       "      <td>1.001129</td>\n",
       "      <td>0.998460</td>\n",
       "      <td>0.991928</td>\n",
       "      <td>1.002414</td>\n",
       "    </tr>\n",
       "    <tr>\n",
       "      <th>3</th>\n",
       "      <td>1.017018</td>\n",
       "      <td>1.010314</td>\n",
       "      <td>0.994246</td>\n",
       "      <td>0.989845</td>\n",
       "      <td>0.988691</td>\n",
       "      <td>1.006671</td>\n",
       "      <td>1.005782</td>\n",
       "      <td>0.992977</td>\n",
       "      <td>1.017919</td>\n",
       "      <td>0.994593</td>\n",
       "      <td>...</td>\n",
       "      <td>1.015174</td>\n",
       "      <td>0.997221</td>\n",
       "      <td>1.017226</td>\n",
       "      <td>1.024839</td>\n",
       "      <td>0.989832</td>\n",
       "      <td>1.016238</td>\n",
       "      <td>1.013922</td>\n",
       "      <td>1.012471</td>\n",
       "      <td>0.992954</td>\n",
       "      <td>1.001672</td>\n",
       "    </tr>\n",
       "    <tr>\n",
       "      <th>4</th>\n",
       "      <td>1.003873</td>\n",
       "      <td>1.009264</td>\n",
       "      <td>0.982120</td>\n",
       "      <td>0.994216</td>\n",
       "      <td>1.000407</td>\n",
       "      <td>1.009770</td>\n",
       "      <td>1.001035</td>\n",
       "      <td>0.994560</td>\n",
       "      <td>1.024420</td>\n",
       "      <td>0.992394</td>\n",
       "      <td>...</td>\n",
       "      <td>1.011333</td>\n",
       "      <td>0.995245</td>\n",
       "      <td>1.035083</td>\n",
       "      <td>1.022706</td>\n",
       "      <td>0.991856</td>\n",
       "      <td>1.011293</td>\n",
       "      <td>1.018068</td>\n",
       "      <td>1.010717</td>\n",
       "      <td>0.996887</td>\n",
       "      <td>0.988758</td>\n",
       "    </tr>\n",
       "    <tr>\n",
       "      <th>...</th>\n",
       "      <td>...</td>\n",
       "      <td>...</td>\n",
       "      <td>...</td>\n",
       "      <td>...</td>\n",
       "      <td>...</td>\n",
       "      <td>...</td>\n",
       "      <td>...</td>\n",
       "      <td>...</td>\n",
       "      <td>...</td>\n",
       "      <td>...</td>\n",
       "      <td>...</td>\n",
       "      <td>...</td>\n",
       "      <td>...</td>\n",
       "      <td>...</td>\n",
       "      <td>...</td>\n",
       "      <td>...</td>\n",
       "      <td>...</td>\n",
       "      <td>...</td>\n",
       "      <td>...</td>\n",
       "      <td>...</td>\n",
       "      <td>...</td>\n",
       "    </tr>\n",
       "    <tr>\n",
       "      <th>7556</th>\n",
       "      <td>12.745826</td>\n",
       "      <td>23.521726</td>\n",
       "      <td>5.436024</td>\n",
       "      <td>18.108129</td>\n",
       "      <td>10.914309</td>\n",
       "      <td>13.693601</td>\n",
       "      <td>19.005279</td>\n",
       "      <td>11.160497</td>\n",
       "      <td>23.490882</td>\n",
       "      <td>8.124603</td>\n",
       "      <td>...</td>\n",
       "      <td>6.502383</td>\n",
       "      <td>1.673639</td>\n",
       "      <td>10.654926</td>\n",
       "      <td>6.685541</td>\n",
       "      <td>16.503675</td>\n",
       "      <td>12.486288</td>\n",
       "      <td>18.264073</td>\n",
       "      <td>3.843501</td>\n",
       "      <td>9.910354</td>\n",
       "      <td>14.954223</td>\n",
       "    </tr>\n",
       "    <tr>\n",
       "      <th>7557</th>\n",
       "      <td>12.983922</td>\n",
       "      <td>23.909148</td>\n",
       "      <td>5.385769</td>\n",
       "      <td>18.024457</td>\n",
       "      <td>10.925726</td>\n",
       "      <td>13.712208</td>\n",
       "      <td>18.804241</td>\n",
       "      <td>11.247571</td>\n",
       "      <td>23.773846</td>\n",
       "      <td>8.007472</td>\n",
       "      <td>...</td>\n",
       "      <td>6.559758</td>\n",
       "      <td>1.677580</td>\n",
       "      <td>10.735382</td>\n",
       "      <td>6.616217</td>\n",
       "      <td>16.436664</td>\n",
       "      <td>12.624029</td>\n",
       "      <td>18.305257</td>\n",
       "      <td>3.839719</td>\n",
       "      <td>10.101353</td>\n",
       "      <td>14.790501</td>\n",
       "    </tr>\n",
       "    <tr>\n",
       "      <th>7558</th>\n",
       "      <td>12.989225</td>\n",
       "      <td>23.923964</td>\n",
       "      <td>5.382702</td>\n",
       "      <td>18.064514</td>\n",
       "      <td>10.815151</td>\n",
       "      <td>13.778871</td>\n",
       "      <td>19.036373</td>\n",
       "      <td>11.197809</td>\n",
       "      <td>23.609183</td>\n",
       "      <td>8.140868</td>\n",
       "      <td>...</td>\n",
       "      <td>6.576786</td>\n",
       "      <td>1.687014</td>\n",
       "      <td>10.729875</td>\n",
       "      <td>6.558644</td>\n",
       "      <td>16.577067</td>\n",
       "      <td>12.765049</td>\n",
       "      <td>18.381001</td>\n",
       "      <td>3.862521</td>\n",
       "      <td>10.080705</td>\n",
       "      <td>14.728347</td>\n",
       "    </tr>\n",
       "    <tr>\n",
       "      <th>7559</th>\n",
       "      <td>13.198125</td>\n",
       "      <td>24.094138</td>\n",
       "      <td>5.378706</td>\n",
       "      <td>18.054816</td>\n",
       "      <td>10.796033</td>\n",
       "      <td>13.590270</td>\n",
       "      <td>19.178549</td>\n",
       "      <td>11.064103</td>\n",
       "      <td>23.989684</td>\n",
       "      <td>8.263881</td>\n",
       "      <td>...</td>\n",
       "      <td>6.500878</td>\n",
       "      <td>1.682851</td>\n",
       "      <td>10.753645</td>\n",
       "      <td>6.497143</td>\n",
       "      <td>16.418218</td>\n",
       "      <td>12.687574</td>\n",
       "      <td>18.311119</td>\n",
       "      <td>3.837367</td>\n",
       "      <td>10.063784</td>\n",
       "      <td>14.631049</td>\n",
       "    </tr>\n",
       "    <tr>\n",
       "      <th>7560</th>\n",
       "      <td>13.195972</td>\n",
       "      <td>24.310796</td>\n",
       "      <td>5.332511</td>\n",
       "      <td>17.919534</td>\n",
       "      <td>10.769922</td>\n",
       "      <td>13.679282</td>\n",
       "      <td>19.318900</td>\n",
       "      <td>11.116955</td>\n",
       "      <td>23.928218</td>\n",
       "      <td>8.267153</td>\n",
       "      <td>...</td>\n",
       "      <td>6.493749</td>\n",
       "      <td>1.705827</td>\n",
       "      <td>10.750488</td>\n",
       "      <td>6.391376</td>\n",
       "      <td>16.566473</td>\n",
       "      <td>12.908391</td>\n",
       "      <td>18.598832</td>\n",
       "      <td>3.814714</td>\n",
       "      <td>10.209006</td>\n",
       "      <td>14.956442</td>\n",
       "    </tr>\n",
       "  </tbody>\n",
       "</table>\n",
       "<p>7561 rows × 500 columns</p>\n",
       "</div>"
      ],
      "text/plain": [
       "            0          1         2          3          4          5    \\\n",
       "0      1.000000   1.000000  1.000000   1.000000   1.000000   1.000000   \n",
       "1      1.007478   1.009711  0.991707   0.992314   1.005169   0.994274   \n",
       "2      1.014061   1.011786  0.986429   1.001470   1.009033   0.998725   \n",
       "3      1.017018   1.010314  0.994246   0.989845   0.988691   1.006671   \n",
       "4      1.003873   1.009264  0.982120   0.994216   1.000407   1.009770   \n",
       "...         ...        ...       ...        ...        ...        ...   \n",
       "7556  12.745826  23.521726  5.436024  18.108129  10.914309  13.693601   \n",
       "7557  12.983922  23.909148  5.385769  18.024457  10.925726  13.712208   \n",
       "7558  12.989225  23.923964  5.382702  18.064514  10.815151  13.778871   \n",
       "7559  13.198125  24.094138  5.378706  18.054816  10.796033  13.590270   \n",
       "7560  13.195972  24.310796  5.332511  17.919534  10.769922  13.679282   \n",
       "\n",
       "            6          7          8         9    ...       490       491  \\\n",
       "0      1.000000   1.000000   1.000000  1.000000  ...  1.000000  1.000000   \n",
       "1      0.999741   1.007519   0.994432  1.004557  ...  1.001267  1.001462   \n",
       "2      0.998775   1.000027   0.997919  1.000608  ...  1.002466  1.005783   \n",
       "3      1.005782   0.992977   1.017919  0.994593  ...  1.015174  0.997221   \n",
       "4      1.001035   0.994560   1.024420  0.992394  ...  1.011333  0.995245   \n",
       "...         ...        ...        ...       ...  ...       ...       ...   \n",
       "7556  19.005279  11.160497  23.490882  8.124603  ...  6.502383  1.673639   \n",
       "7557  18.804241  11.247571  23.773846  8.007472  ...  6.559758  1.677580   \n",
       "7558  19.036373  11.197809  23.609183  8.140868  ...  6.576786  1.687014   \n",
       "7559  19.178549  11.064103  23.989684  8.263881  ...  6.500878  1.682851   \n",
       "7560  19.318900  11.116955  23.928218  8.267153  ...  6.493749  1.705827   \n",
       "\n",
       "            492       493        494        495        496       497  \\\n",
       "0      1.000000  1.000000   1.000000   1.000000   1.000000  1.000000   \n",
       "1      1.010505  1.002777   1.001070   0.989839   0.998396  0.990597   \n",
       "2      0.999964  1.008312   0.987480   1.006020   1.001129  0.998460   \n",
       "3      1.017226  1.024839   0.989832   1.016238   1.013922  1.012471   \n",
       "4      1.035083  1.022706   0.991856   1.011293   1.018068  1.010717   \n",
       "...         ...       ...        ...        ...        ...       ...   \n",
       "7556  10.654926  6.685541  16.503675  12.486288  18.264073  3.843501   \n",
       "7557  10.735382  6.616217  16.436664  12.624029  18.305257  3.839719   \n",
       "7558  10.729875  6.558644  16.577067  12.765049  18.381001  3.862521   \n",
       "7559  10.753645  6.497143  16.418218  12.687574  18.311119  3.837367   \n",
       "7560  10.750488  6.391376  16.566473  12.908391  18.598832  3.814714   \n",
       "\n",
       "            498        499  \n",
       "0      1.000000   1.000000  \n",
       "1      0.995849   0.997638  \n",
       "2      0.991928   1.002414  \n",
       "3      0.992954   1.001672  \n",
       "4      0.996887   0.988758  \n",
       "...         ...        ...  \n",
       "7556   9.910354  14.954223  \n",
       "7557  10.101353  14.790501  \n",
       "7558  10.080705  14.728347  \n",
       "7559  10.063784  14.631049  \n",
       "7560  10.209006  14.956442  \n",
       "\n",
       "[7561 rows x 500 columns]"
      ]
     },
     "execution_count": 52,
     "metadata": {},
     "output_type": "execute_result"
    }
   ],
   "source": [
    "# Run the Monte Carlo simulation to forecast 30 years cumulative returns\n",
    "MC_weight.calc_cumulative_return()\n"
   ]
  },
  {
   "cell_type": "code",
   "execution_count": 54,
   "metadata": {},
   "outputs": [
    {
     "data": {
      "image/png": "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\n",
      "text/plain": [
       "<Figure size 432x288 with 1 Axes>"
      ]
     },
     "metadata": {
      "needs_background": "light"
     },
     "output_type": "display_data"
    }
   ],
   "source": [
    "# Visualize the 30-year Monte Carlo simulation by creating an\n",
    "# overlay line plot\n",
    "weight_line_plot = MC_weight.plot_simulation()\n"
   ]
  },
  {
   "cell_type": "markdown",
   "metadata": {},
   "source": [
    "#### Step 3: Plot the probability distribution of the Monte Carlo simulation."
   ]
  },
  {
   "cell_type": "code",
   "execution_count": 55,
   "metadata": {},
   "outputs": [
    {
     "data": {
      "image/png": "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\n",
      "text/plain": [
       "<Figure size 432x288 with 1 Axes>"
      ]
     },
     "metadata": {
      "needs_background": "light"
     },
     "output_type": "display_data"
    }
   ],
   "source": [
    "# Visualize the probability distribution of the 30-year Monte Carlo simulation \n",
    "# by plotting a histogram\n",
    "weight_hist_plot = MC_weight.plot_distribution()\n"
   ]
  },
  {
   "cell_type": "markdown",
   "metadata": {},
   "source": [
    "#### Step 4: Generate the summary statistics for the Monte Carlo simulation."
   ]
  },
  {
   "cell_type": "code",
   "execution_count": 56,
   "metadata": {},
   "outputs": [
    {
     "name": "stdout",
     "output_type": "stream",
     "text": [
      "count           500.000000\n",
      "mean             15.038784\n",
      "std              10.800348\n",
      "min               1.591072\n",
      "25%               7.796520\n",
      "50%              12.227027\n",
      "75%              18.625393\n",
      "max              79.463042\n",
      "95% CI Lower      2.987027\n",
      "95% CI Upper     44.922130\n",
      "Name: 7560, dtype: float64\n"
     ]
    }
   ],
   "source": [
    "# Generate summary statistics from the 30-year Monte Carlo simulation results\n",
    "# Save the results as a variable\n",
    "weight_table = MC_weight.summarize_cumulative_return()\n",
    "\n",
    "\n",
    "# Review the 30-year Monte Carlo summary statistics\n",
    "print(weight_table)"
   ]
  },
  {
   "cell_type": "markdown",
   "metadata": {},
   "source": [
    "### Analyze the Retirement Portfolio Forecasts\n",
    "\n",
    "Using the current value of only the stock and bond portion of the member's portfolio and the summary statistics that you generated from the Monte Carlo simulation, answer the following question in your Jupyter notebook:\n",
    "\n",
    "-  What are the lower and upper bounds for the expected value of the portfolio with a 95% confidence interval?\n"
   ]
  },
  {
   "cell_type": "code",
   "execution_count": 57,
   "metadata": {},
   "outputs": [
    {
     "name": "stdout",
     "output_type": "stream",
     "text": [
      "The current balance of the stocks and bond portfolio is $73693.6\n"
     ]
    }
   ],
   "source": [
    "# Print the current balance of the stock and bond portion of the members portfolio\n",
    "print(f\"The current balance of the stocks and bond portfolio is ${total_stocks_bonds}\")\n"
   ]
  },
  {
   "cell_type": "code",
   "execution_count": 59,
   "metadata": {},
   "outputs": [
    {
     "name": "stdout",
     "output_type": "stream",
     "text": [
      "There is a 95% chance that an initial investment of $73693.6 in the portfolio with an 60% weight in SPY over the next 30 years will end within in the range of $220124.79 and $3310473.48.\n"
     ]
    }
   ],
   "source": [
    "# Use the lower and upper `95%` confidence intervals to calculate the range of the possible outcomes for the current stock/bond portfolio\n",
    "ci_lower_thirty_cumulative_return = even_ci_lower = round(weight_table[8]*73693.6,2)\n",
    "ci_upper_thirty_cumulative_return = round(weight_table[9]*73693.6,2)\n",
    "# Print the result of your calculations\n",
    "print(f\"There is a 95% chance that an initial investment of $73693.6 in the portfolio\"\n",
    "      f\" with an 60% weight in SPY over the next 30 years will end within in the range of\"\n",
    "      f\" ${ci_lower_thirty_cumulative_return} and ${ci_upper_thirty_cumulative_return}.\")"
   ]
  },
  {
   "cell_type": "markdown",
   "metadata": {},
   "source": [
    "### Forecast Cumulative Returns in 10 Years\n",
    "\n",
    "The CTO of the credit union is impressed with your work on these planning tools but wonders if 30 years is a long time to wait until retirement. So, your next task is to adjust the retirement portfolio and run a new Monte Carlo simulation to find out if the changes will allow members to retire earlier.\n",
    "\n",
    "For this new Monte Carlo simulation, do the following: \n",
    "\n",
    "- Forecast the cumulative returns for 10 years from now. Because of the shortened investment horizon (30 years to 10 years), the portfolio needs to invest more heavily in the riskier asset&mdash;that is, stock&mdash;to help accumulate wealth for retirement. \n",
    "\n",
    "- Adjust the weights of the retirement portfolio so that the composition for the Monte Carlo simulation consists of 20% bonds and 80% stocks. \n",
    "\n",
    "- Run the simulation over 500 samples, and use the same data that the API call to Alpaca generated.\n",
    "\n",
    "- Based on the new Monte Carlo simulation, answer the following questions in your Jupyter notebook:\n",
    "\n",
    "    - Using the current value of only the stock and bond portion of the member's portfolio and the summary statistics that you generated from the new Monte Carlo simulation, what are the lower and upper bounds for the expected value of the portfolio (with the new weights) with a 95% confidence interval?\n",
    "\n",
    "    - Will weighting the portfolio more heavily toward stocks allow the credit union members to retire after only 10 years?\n"
   ]
  },
  {
   "cell_type": "code",
   "execution_count": 60,
   "metadata": {},
   "outputs": [
    {
     "data": {
      "text/html": [
       "<div>\n",
       "<style scoped>\n",
       "    .dataframe tbody tr th:only-of-type {\n",
       "        vertical-align: middle;\n",
       "    }\n",
       "\n",
       "    .dataframe tbody tr th {\n",
       "        vertical-align: top;\n",
       "    }\n",
       "\n",
       "    .dataframe thead tr th {\n",
       "        text-align: left;\n",
       "    }\n",
       "\n",
       "    .dataframe thead tr:last-of-type th {\n",
       "        text-align: right;\n",
       "    }\n",
       "</style>\n",
       "<table border=\"1\" class=\"dataframe\">\n",
       "  <thead>\n",
       "    <tr>\n",
       "      <th></th>\n",
       "      <th colspan=\"6\" halign=\"left\">AGG</th>\n",
       "      <th colspan=\"6\" halign=\"left\">SPY</th>\n",
       "    </tr>\n",
       "    <tr>\n",
       "      <th></th>\n",
       "      <th>open</th>\n",
       "      <th>high</th>\n",
       "      <th>low</th>\n",
       "      <th>close</th>\n",
       "      <th>volume</th>\n",
       "      <th>daily_return</th>\n",
       "      <th>open</th>\n",
       "      <th>high</th>\n",
       "      <th>low</th>\n",
       "      <th>close</th>\n",
       "      <th>volume</th>\n",
       "      <th>daily_return</th>\n",
       "    </tr>\n",
       "    <tr>\n",
       "      <th>time</th>\n",
       "      <th></th>\n",
       "      <th></th>\n",
       "      <th></th>\n",
       "      <th></th>\n",
       "      <th></th>\n",
       "      <th></th>\n",
       "      <th></th>\n",
       "      <th></th>\n",
       "      <th></th>\n",
       "      <th></th>\n",
       "      <th></th>\n",
       "      <th></th>\n",
       "    </tr>\n",
       "  </thead>\n",
       "  <tbody>\n",
       "    <tr>\n",
       "      <th>2018-01-23 00:00:00-05:00</th>\n",
       "      <td>108.33</td>\n",
       "      <td>108.4401</td>\n",
       "      <td>108.29</td>\n",
       "      <td>108.39</td>\n",
       "      <td>3488873</td>\n",
       "      <td>NaN</td>\n",
       "      <td>282.74</td>\n",
       "      <td>283.62</td>\n",
       "      <td>282.370</td>\n",
       "      <td>283.26</td>\n",
       "      <td>53406595</td>\n",
       "      <td>NaN</td>\n",
       "    </tr>\n",
       "    <tr>\n",
       "      <th>2018-01-24 00:00:00-05:00</th>\n",
       "      <td>108.25</td>\n",
       "      <td>108.3200</td>\n",
       "      <td>108.15</td>\n",
       "      <td>108.28</td>\n",
       "      <td>2004492</td>\n",
       "      <td>-0.001015</td>\n",
       "      <td>283.99</td>\n",
       "      <td>284.70</td>\n",
       "      <td>281.840</td>\n",
       "      <td>283.18</td>\n",
       "      <td>77334662</td>\n",
       "      <td>-0.000282</td>\n",
       "    </tr>\n",
       "    <tr>\n",
       "      <th>2018-01-25 00:00:00-05:00</th>\n",
       "      <td>108.26</td>\n",
       "      <td>108.5700</td>\n",
       "      <td>108.19</td>\n",
       "      <td>108.56</td>\n",
       "      <td>9339661</td>\n",
       "      <td>0.002586</td>\n",
       "      <td>284.16</td>\n",
       "      <td>284.27</td>\n",
       "      <td>282.405</td>\n",
       "      <td>283.28</td>\n",
       "      <td>51821059</td>\n",
       "      <td>0.000353</td>\n",
       "    </tr>\n",
       "    <tr>\n",
       "      <th>2018-01-26 00:00:00-05:00</th>\n",
       "      <td>108.51</td>\n",
       "      <td>108.5100</td>\n",
       "      <td>108.27</td>\n",
       "      <td>108.38</td>\n",
       "      <td>2226605</td>\n",
       "      <td>-0.001658</td>\n",
       "      <td>284.27</td>\n",
       "      <td>286.58</td>\n",
       "      <td>283.960</td>\n",
       "      <td>286.57</td>\n",
       "      <td>56613904</td>\n",
       "      <td>0.011614</td>\n",
       "    </tr>\n",
       "    <tr>\n",
       "      <th>2018-01-29 00:00:00-05:00</th>\n",
       "      <td>108.14</td>\n",
       "      <td>108.2100</td>\n",
       "      <td>108.02</td>\n",
       "      <td>108.19</td>\n",
       "      <td>3532887</td>\n",
       "      <td>-0.001753</td>\n",
       "      <td>285.97</td>\n",
       "      <td>286.43</td>\n",
       "      <td>284.500</td>\n",
       "      <td>284.68</td>\n",
       "      <td>60825439</td>\n",
       "      <td>-0.006595</td>\n",
       "    </tr>\n",
       "  </tbody>\n",
       "</table>\n",
       "</div>"
      ],
      "text/plain": [
       "                              AGG                                     \\\n",
       "                             open      high     low   close   volume   \n",
       "time                                                                   \n",
       "2018-01-23 00:00:00-05:00  108.33  108.4401  108.29  108.39  3488873   \n",
       "2018-01-24 00:00:00-05:00  108.25  108.3200  108.15  108.28  2004492   \n",
       "2018-01-25 00:00:00-05:00  108.26  108.5700  108.19  108.56  9339661   \n",
       "2018-01-26 00:00:00-05:00  108.51  108.5100  108.27  108.38  2226605   \n",
       "2018-01-29 00:00:00-05:00  108.14  108.2100  108.02  108.19  3532887   \n",
       "\n",
       "                                           SPY                           \\\n",
       "                          daily_return    open    high      low   close   \n",
       "time                                                                      \n",
       "2018-01-23 00:00:00-05:00          NaN  282.74  283.62  282.370  283.26   \n",
       "2018-01-24 00:00:00-05:00    -0.001015  283.99  284.70  281.840  283.18   \n",
       "2018-01-25 00:00:00-05:00     0.002586  284.16  284.27  282.405  283.28   \n",
       "2018-01-26 00:00:00-05:00    -0.001658  284.27  286.58  283.960  286.57   \n",
       "2018-01-29 00:00:00-05:00    -0.001753  285.97  286.43  284.500  284.68   \n",
       "\n",
       "                                                  \n",
       "                             volume daily_return  \n",
       "time                                              \n",
       "2018-01-23 00:00:00-05:00  53406595          NaN  \n",
       "2018-01-24 00:00:00-05:00  77334662    -0.000282  \n",
       "2018-01-25 00:00:00-05:00  51821059     0.000353  \n",
       "2018-01-26 00:00:00-05:00  56613904     0.011614  \n",
       "2018-01-29 00:00:00-05:00  60825439    -0.006595  "
      ]
     },
     "execution_count": 60,
     "metadata": {},
     "output_type": "execute_result"
    }
   ],
   "source": [
    "# Configure a Monte Carlo simulation to forecast 10 years cumulative returns\n",
    "# The weights should be split 20% to AGG and 80% to SPY.\n",
    "# Run 500 samples.\n",
    "spy_weight = MCSimulation(\n",
    "    portfolio_data = prices_df,\n",
    "    weights = [.20, .80],\n",
    "    num_simulation = 500,\n",
    "    num_trading_days = 252*10\n",
    ")\n",
    "\n",
    "# Review the simulation input data\n",
    "spy_weight.portfolio_data.head()\n"
   ]
  },
  {
   "cell_type": "code",
   "execution_count": 61,
   "metadata": {},
   "outputs": [
    {
     "name": "stdout",
     "output_type": "stream",
     "text": [
      "Running Monte Carlo simulation number 0.\n",
      "Running Monte Carlo simulation number 10.\n",
      "Running Monte Carlo simulation number 20.\n",
      "Running Monte Carlo simulation number 30.\n",
      "Running Monte Carlo simulation number 40.\n",
      "Running Monte Carlo simulation number 50.\n",
      "Running Monte Carlo simulation number 60.\n",
      "Running Monte Carlo simulation number 70.\n",
      "Running Monte Carlo simulation number 80.\n",
      "Running Monte Carlo simulation number 90.\n",
      "Running Monte Carlo simulation number 100.\n"
     ]
    },
    {
     "name": "stderr",
     "output_type": "stream",
     "text": [
      "C:\\Users\\Hanadi Seed Ahmed\\Desktop\\M5\\MCForecastTools.py:117: PerformanceWarning: DataFrame is highly fragmented.  This is usually the result of calling `frame.insert` many times, which has poor performance.  Consider joining all columns at once using pd.concat(axis=1) instead.  To get a de-fragmented frame, use `newframe = frame.copy()`\n",
      "  portfolio_cumulative_returns[n] = (1 + sim_df.fillna(0)).cumprod()\n"
     ]
    },
    {
     "name": "stdout",
     "output_type": "stream",
     "text": [
      "Running Monte Carlo simulation number 110.\n",
      "Running Monte Carlo simulation number 120.\n",
      "Running Monte Carlo simulation number 130.\n",
      "Running Monte Carlo simulation number 140.\n",
      "Running Monte Carlo simulation number 150.\n",
      "Running Monte Carlo simulation number 160.\n",
      "Running Monte Carlo simulation number 170.\n",
      "Running Monte Carlo simulation number 180.\n",
      "Running Monte Carlo simulation number 190.\n",
      "Running Monte Carlo simulation number 200.\n",
      "Running Monte Carlo simulation number 210.\n",
      "Running Monte Carlo simulation number 220.\n",
      "Running Monte Carlo simulation number 230.\n",
      "Running Monte Carlo simulation number 240.\n",
      "Running Monte Carlo simulation number 250.\n",
      "Running Monte Carlo simulation number 260.\n",
      "Running Monte Carlo simulation number 270.\n",
      "Running Monte Carlo simulation number 280.\n",
      "Running Monte Carlo simulation number 290.\n",
      "Running Monte Carlo simulation number 300.\n",
      "Running Monte Carlo simulation number 310.\n",
      "Running Monte Carlo simulation number 320.\n",
      "Running Monte Carlo simulation number 330.\n",
      "Running Monte Carlo simulation number 340.\n",
      "Running Monte Carlo simulation number 350.\n",
      "Running Monte Carlo simulation number 360.\n",
      "Running Monte Carlo simulation number 370.\n",
      "Running Monte Carlo simulation number 380.\n",
      "Running Monte Carlo simulation number 390.\n",
      "Running Monte Carlo simulation number 400.\n",
      "Running Monte Carlo simulation number 410.\n",
      "Running Monte Carlo simulation number 420.\n",
      "Running Monte Carlo simulation number 430.\n",
      "Running Monte Carlo simulation number 440.\n",
      "Running Monte Carlo simulation number 450.\n",
      "Running Monte Carlo simulation number 460.\n",
      "Running Monte Carlo simulation number 470.\n",
      "Running Monte Carlo simulation number 480.\n",
      "Running Monte Carlo simulation number 490.\n"
     ]
    },
    {
     "data": {
      "text/html": [
       "<div>\n",
       "<style scoped>\n",
       "    .dataframe tbody tr th:only-of-type {\n",
       "        vertical-align: middle;\n",
       "    }\n",
       "\n",
       "    .dataframe tbody tr th {\n",
       "        vertical-align: top;\n",
       "    }\n",
       "\n",
       "    .dataframe thead th {\n",
       "        text-align: right;\n",
       "    }\n",
       "</style>\n",
       "<table border=\"1\" class=\"dataframe\">\n",
       "  <thead>\n",
       "    <tr style=\"text-align: right;\">\n",
       "      <th></th>\n",
       "      <th>0</th>\n",
       "      <th>1</th>\n",
       "      <th>2</th>\n",
       "      <th>3</th>\n",
       "      <th>4</th>\n",
       "      <th>5</th>\n",
       "      <th>6</th>\n",
       "      <th>7</th>\n",
       "      <th>8</th>\n",
       "      <th>9</th>\n",
       "      <th>...</th>\n",
       "      <th>490</th>\n",
       "      <th>491</th>\n",
       "      <th>492</th>\n",
       "      <th>493</th>\n",
       "      <th>494</th>\n",
       "      <th>495</th>\n",
       "      <th>496</th>\n",
       "      <th>497</th>\n",
       "      <th>498</th>\n",
       "      <th>499</th>\n",
       "    </tr>\n",
       "  </thead>\n",
       "  <tbody>\n",
       "    <tr>\n",
       "      <th>0</th>\n",
       "      <td>1.000000</td>\n",
       "      <td>1.000000</td>\n",
       "      <td>1.000000</td>\n",
       "      <td>1.000000</td>\n",
       "      <td>1.000000</td>\n",
       "      <td>1.000000</td>\n",
       "      <td>1.000000</td>\n",
       "      <td>1.000000</td>\n",
       "      <td>1.000000</td>\n",
       "      <td>1.000000</td>\n",
       "      <td>...</td>\n",
       "      <td>1.000000</td>\n",
       "      <td>1.000000</td>\n",
       "      <td>1.000000</td>\n",
       "      <td>1.000000</td>\n",
       "      <td>1.000000</td>\n",
       "      <td>1.000000</td>\n",
       "      <td>1.000000</td>\n",
       "      <td>1.000000</td>\n",
       "      <td>1.000000</td>\n",
       "      <td>1.000000</td>\n",
       "    </tr>\n",
       "    <tr>\n",
       "      <th>1</th>\n",
       "      <td>1.020342</td>\n",
       "      <td>1.005065</td>\n",
       "      <td>0.990634</td>\n",
       "      <td>1.005040</td>\n",
       "      <td>1.008561</td>\n",
       "      <td>1.009996</td>\n",
       "      <td>1.013268</td>\n",
       "      <td>1.001336</td>\n",
       "      <td>1.016449</td>\n",
       "      <td>1.002257</td>\n",
       "      <td>...</td>\n",
       "      <td>1.007573</td>\n",
       "      <td>0.997135</td>\n",
       "      <td>0.993109</td>\n",
       "      <td>0.988318</td>\n",
       "      <td>0.988153</td>\n",
       "      <td>0.985115</td>\n",
       "      <td>1.014901</td>\n",
       "      <td>1.001611</td>\n",
       "      <td>1.001609</td>\n",
       "      <td>1.002337</td>\n",
       "    </tr>\n",
       "    <tr>\n",
       "      <th>2</th>\n",
       "      <td>1.016618</td>\n",
       "      <td>1.009456</td>\n",
       "      <td>0.987614</td>\n",
       "      <td>1.014797</td>\n",
       "      <td>1.012469</td>\n",
       "      <td>1.008832</td>\n",
       "      <td>1.001705</td>\n",
       "      <td>0.995654</td>\n",
       "      <td>1.029415</td>\n",
       "      <td>1.008617</td>\n",
       "      <td>...</td>\n",
       "      <td>1.012242</td>\n",
       "      <td>0.979608</td>\n",
       "      <td>1.007194</td>\n",
       "      <td>0.985843</td>\n",
       "      <td>1.001928</td>\n",
       "      <td>0.996545</td>\n",
       "      <td>0.997292</td>\n",
       "      <td>1.001616</td>\n",
       "      <td>1.009801</td>\n",
       "      <td>0.984595</td>\n",
       "    </tr>\n",
       "    <tr>\n",
       "      <th>3</th>\n",
       "      <td>1.033711</td>\n",
       "      <td>1.012136</td>\n",
       "      <td>0.994321</td>\n",
       "      <td>1.018285</td>\n",
       "      <td>1.007674</td>\n",
       "      <td>1.019974</td>\n",
       "      <td>1.016725</td>\n",
       "      <td>0.992565</td>\n",
       "      <td>1.034581</td>\n",
       "      <td>0.995420</td>\n",
       "      <td>...</td>\n",
       "      <td>0.995301</td>\n",
       "      <td>0.984231</td>\n",
       "      <td>1.010284</td>\n",
       "      <td>0.986713</td>\n",
       "      <td>1.015086</td>\n",
       "      <td>1.003921</td>\n",
       "      <td>1.002998</td>\n",
       "      <td>0.997864</td>\n",
       "      <td>1.012597</td>\n",
       "      <td>0.981776</td>\n",
       "    </tr>\n",
       "    <tr>\n",
       "      <th>4</th>\n",
       "      <td>1.029940</td>\n",
       "      <td>1.006252</td>\n",
       "      <td>0.990128</td>\n",
       "      <td>1.030589</td>\n",
       "      <td>1.006857</td>\n",
       "      <td>1.011103</td>\n",
       "      <td>1.007263</td>\n",
       "      <td>1.001538</td>\n",
       "      <td>1.022799</td>\n",
       "      <td>0.989964</td>\n",
       "      <td>...</td>\n",
       "      <td>0.982103</td>\n",
       "      <td>0.992066</td>\n",
       "      <td>1.012760</td>\n",
       "      <td>0.998134</td>\n",
       "      <td>1.034235</td>\n",
       "      <td>1.018204</td>\n",
       "      <td>1.027921</td>\n",
       "      <td>0.987747</td>\n",
       "      <td>1.017789</td>\n",
       "      <td>0.969244</td>\n",
       "    </tr>\n",
       "    <tr>\n",
       "      <th>...</th>\n",
       "      <td>...</td>\n",
       "      <td>...</td>\n",
       "      <td>...</td>\n",
       "      <td>...</td>\n",
       "      <td>...</td>\n",
       "      <td>...</td>\n",
       "      <td>...</td>\n",
       "      <td>...</td>\n",
       "      <td>...</td>\n",
       "      <td>...</td>\n",
       "      <td>...</td>\n",
       "      <td>...</td>\n",
       "      <td>...</td>\n",
       "      <td>...</td>\n",
       "      <td>...</td>\n",
       "      <td>...</td>\n",
       "      <td>...</td>\n",
       "      <td>...</td>\n",
       "      <td>...</td>\n",
       "      <td>...</td>\n",
       "      <td>...</td>\n",
       "    </tr>\n",
       "    <tr>\n",
       "      <th>2516</th>\n",
       "      <td>2.256510</td>\n",
       "      <td>5.186538</td>\n",
       "      <td>6.812383</td>\n",
       "      <td>3.149317</td>\n",
       "      <td>4.488519</td>\n",
       "      <td>2.318887</td>\n",
       "      <td>4.451388</td>\n",
       "      <td>1.178775</td>\n",
       "      <td>4.963061</td>\n",
       "      <td>2.734220</td>\n",
       "      <td>...</td>\n",
       "      <td>5.260773</td>\n",
       "      <td>1.600069</td>\n",
       "      <td>10.006533</td>\n",
       "      <td>2.015811</td>\n",
       "      <td>3.682574</td>\n",
       "      <td>1.435585</td>\n",
       "      <td>2.391397</td>\n",
       "      <td>4.282680</td>\n",
       "      <td>1.036660</td>\n",
       "      <td>3.891777</td>\n",
       "    </tr>\n",
       "    <tr>\n",
       "      <th>2517</th>\n",
       "      <td>2.232007</td>\n",
       "      <td>5.212473</td>\n",
       "      <td>6.807986</td>\n",
       "      <td>3.159119</td>\n",
       "      <td>4.504065</td>\n",
       "      <td>2.353594</td>\n",
       "      <td>4.504126</td>\n",
       "      <td>1.193173</td>\n",
       "      <td>4.973317</td>\n",
       "      <td>2.738939</td>\n",
       "      <td>...</td>\n",
       "      <td>5.329770</td>\n",
       "      <td>1.633229</td>\n",
       "      <td>10.131304</td>\n",
       "      <td>2.008033</td>\n",
       "      <td>3.718954</td>\n",
       "      <td>1.454759</td>\n",
       "      <td>2.408218</td>\n",
       "      <td>4.303408</td>\n",
       "      <td>1.041737</td>\n",
       "      <td>3.881431</td>\n",
       "    </tr>\n",
       "    <tr>\n",
       "      <th>2518</th>\n",
       "      <td>2.201398</td>\n",
       "      <td>5.214723</td>\n",
       "      <td>6.798654</td>\n",
       "      <td>3.147772</td>\n",
       "      <td>4.459070</td>\n",
       "      <td>2.329577</td>\n",
       "      <td>4.493814</td>\n",
       "      <td>1.195401</td>\n",
       "      <td>4.959571</td>\n",
       "      <td>2.762539</td>\n",
       "      <td>...</td>\n",
       "      <td>5.316519</td>\n",
       "      <td>1.651093</td>\n",
       "      <td>10.110092</td>\n",
       "      <td>2.002168</td>\n",
       "      <td>3.728212</td>\n",
       "      <td>1.461694</td>\n",
       "      <td>2.397033</td>\n",
       "      <td>4.291047</td>\n",
       "      <td>1.044917</td>\n",
       "      <td>3.892034</td>\n",
       "    </tr>\n",
       "    <tr>\n",
       "      <th>2519</th>\n",
       "      <td>2.171339</td>\n",
       "      <td>5.144643</td>\n",
       "      <td>6.796457</td>\n",
       "      <td>3.133748</td>\n",
       "      <td>4.431273</td>\n",
       "      <td>2.356306</td>\n",
       "      <td>4.564222</td>\n",
       "      <td>1.195634</td>\n",
       "      <td>5.014277</td>\n",
       "      <td>2.759083</td>\n",
       "      <td>...</td>\n",
       "      <td>5.350999</td>\n",
       "      <td>1.652782</td>\n",
       "      <td>9.967871</td>\n",
       "      <td>1.987215</td>\n",
       "      <td>3.659938</td>\n",
       "      <td>1.446308</td>\n",
       "      <td>2.385427</td>\n",
       "      <td>4.263251</td>\n",
       "      <td>1.031703</td>\n",
       "      <td>3.916370</td>\n",
       "    </tr>\n",
       "    <tr>\n",
       "      <th>2520</th>\n",
       "      <td>2.190197</td>\n",
       "      <td>5.210768</td>\n",
       "      <td>6.849474</td>\n",
       "      <td>3.134390</td>\n",
       "      <td>4.462033</td>\n",
       "      <td>2.320299</td>\n",
       "      <td>4.561654</td>\n",
       "      <td>1.193949</td>\n",
       "      <td>4.995833</td>\n",
       "      <td>2.768992</td>\n",
       "      <td>...</td>\n",
       "      <td>5.347541</td>\n",
       "      <td>1.672026</td>\n",
       "      <td>9.950223</td>\n",
       "      <td>1.959878</td>\n",
       "      <td>3.614642</td>\n",
       "      <td>1.441654</td>\n",
       "      <td>2.358822</td>\n",
       "      <td>4.250135</td>\n",
       "      <td>1.031477</td>\n",
       "      <td>3.836027</td>\n",
       "    </tr>\n",
       "  </tbody>\n",
       "</table>\n",
       "<p>2521 rows × 500 columns</p>\n",
       "</div>"
      ],
      "text/plain": [
       "           0         1         2         3         4         5         6    \\\n",
       "0     1.000000  1.000000  1.000000  1.000000  1.000000  1.000000  1.000000   \n",
       "1     1.020342  1.005065  0.990634  1.005040  1.008561  1.009996  1.013268   \n",
       "2     1.016618  1.009456  0.987614  1.014797  1.012469  1.008832  1.001705   \n",
       "3     1.033711  1.012136  0.994321  1.018285  1.007674  1.019974  1.016725   \n",
       "4     1.029940  1.006252  0.990128  1.030589  1.006857  1.011103  1.007263   \n",
       "...        ...       ...       ...       ...       ...       ...       ...   \n",
       "2516  2.256510  5.186538  6.812383  3.149317  4.488519  2.318887  4.451388   \n",
       "2517  2.232007  5.212473  6.807986  3.159119  4.504065  2.353594  4.504126   \n",
       "2518  2.201398  5.214723  6.798654  3.147772  4.459070  2.329577  4.493814   \n",
       "2519  2.171339  5.144643  6.796457  3.133748  4.431273  2.356306  4.564222   \n",
       "2520  2.190197  5.210768  6.849474  3.134390  4.462033  2.320299  4.561654   \n",
       "\n",
       "           7         8         9    ...       490       491        492  \\\n",
       "0     1.000000  1.000000  1.000000  ...  1.000000  1.000000   1.000000   \n",
       "1     1.001336  1.016449  1.002257  ...  1.007573  0.997135   0.993109   \n",
       "2     0.995654  1.029415  1.008617  ...  1.012242  0.979608   1.007194   \n",
       "3     0.992565  1.034581  0.995420  ...  0.995301  0.984231   1.010284   \n",
       "4     1.001538  1.022799  0.989964  ...  0.982103  0.992066   1.012760   \n",
       "...        ...       ...       ...  ...       ...       ...        ...   \n",
       "2516  1.178775  4.963061  2.734220  ...  5.260773  1.600069  10.006533   \n",
       "2517  1.193173  4.973317  2.738939  ...  5.329770  1.633229  10.131304   \n",
       "2518  1.195401  4.959571  2.762539  ...  5.316519  1.651093  10.110092   \n",
       "2519  1.195634  5.014277  2.759083  ...  5.350999  1.652782   9.967871   \n",
       "2520  1.193949  4.995833  2.768992  ...  5.347541  1.672026   9.950223   \n",
       "\n",
       "           493       494       495       496       497       498       499  \n",
       "0     1.000000  1.000000  1.000000  1.000000  1.000000  1.000000  1.000000  \n",
       "1     0.988318  0.988153  0.985115  1.014901  1.001611  1.001609  1.002337  \n",
       "2     0.985843  1.001928  0.996545  0.997292  1.001616  1.009801  0.984595  \n",
       "3     0.986713  1.015086  1.003921  1.002998  0.997864  1.012597  0.981776  \n",
       "4     0.998134  1.034235  1.018204  1.027921  0.987747  1.017789  0.969244  \n",
       "...        ...       ...       ...       ...       ...       ...       ...  \n",
       "2516  2.015811  3.682574  1.435585  2.391397  4.282680  1.036660  3.891777  \n",
       "2517  2.008033  3.718954  1.454759  2.408218  4.303408  1.041737  3.881431  \n",
       "2518  2.002168  3.728212  1.461694  2.397033  4.291047  1.044917  3.892034  \n",
       "2519  1.987215  3.659938  1.446308  2.385427  4.263251  1.031703  3.916370  \n",
       "2520  1.959878  3.614642  1.441654  2.358822  4.250135  1.031477  3.836027  \n",
       "\n",
       "[2521 rows x 500 columns]"
      ]
     },
     "execution_count": 61,
     "metadata": {},
     "output_type": "execute_result"
    }
   ],
   "source": [
    "# Run the Monte Carlo simulation to forecast 10 years cumulative returns\n",
    "spy_weight.calc_cumulative_return()\n"
   ]
  },
  {
   "cell_type": "code",
   "execution_count": 62,
   "metadata": {},
   "outputs": [
    {
     "data": {
      "image/png": "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\n",
      "text/plain": [
       "<Figure size 432x288 with 1 Axes>"
      ]
     },
     "metadata": {
      "needs_background": "light"
     },
     "output_type": "display_data"
    }
   ],
   "source": [
    "# Visualize the 10-year Monte Carlo simulation by creating an\n",
    "# overlay line plot\n",
    "spy_line_plot = spy_weight.plot_simulation()\n"
   ]
  },
  {
   "cell_type": "code",
   "execution_count": 63,
   "metadata": {},
   "outputs": [
    {
     "data": {
      "image/png": "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\n",
      "text/plain": [
       "<Figure size 432x288 with 1 Axes>"
      ]
     },
     "metadata": {
      "needs_background": "light"
     },
     "output_type": "display_data"
    }
   ],
   "source": [
    "# Visualize the probability distribution of the 10-year Monte Carlo simulation \n",
    "# by plotting a histogram\n",
    "spy_hist_plot = spy_weight.plot_distribution()\n"
   ]
  },
  {
   "cell_type": "code",
   "execution_count": 64,
   "metadata": {},
   "outputs": [
    {
     "data": {
      "text/plain": [
       "count           500.000000\n",
       "mean              3.400246\n",
       "std               1.915758\n",
       "min               0.679533\n",
       "25%               2.074004\n",
       "50%               2.921510\n",
       "75%               4.281266\n",
       "max              12.206713\n",
       "95% CI Lower      1.030743\n",
       "95% CI Upper      8.405700\n",
       "Name: 2520, dtype: float64"
      ]
     },
     "execution_count": 64,
     "metadata": {},
     "output_type": "execute_result"
    }
   ],
   "source": [
    "# Generate summary statistics from the 10-year Monte Carlo simulation results\n",
    "# Save the results as a variable\n",
    "spy_table = spy_weight.summarize_cumulative_return()\n",
    "\n",
    "\n",
    "# Review the 10-year Monte Carlo summary statistics\n",
    "spy_table"
   ]
  },
  {
   "cell_type": "markdown",
   "metadata": {},
   "source": [
    "### Answer the following questions:"
   ]
  },
  {
   "cell_type": "markdown",
   "metadata": {},
   "source": [
    "#### Question: Using the current value of only the stock and bond portion of the member's portfolio and the summary statistics that you generated from the new Monte Carlo simulation, what are the lower and upper bounds for the expected value of the portfolio (with the new weights) with a 95% confidence interval?"
   ]
  },
  {
   "cell_type": "code",
   "execution_count": 65,
   "metadata": {},
   "outputs": [
    {
     "name": "stdout",
     "output_type": "stream",
     "text": [
      "The current balance of the stocks and bond portfolio is $73693.6\n"
     ]
    }
   ],
   "source": [
    "# Print the current balance of the stock and bond portion of the members portfolio\n",
    "print(f\"The current balance of the stocks and bond portfolio is ${total_stocks_bonds}\")\n"
   ]
  },
  {
   "cell_type": "code",
   "execution_count": 66,
   "metadata": {},
   "outputs": [
    {
     "name": "stdout",
     "output_type": "stream",
     "text": [
      "There is a 95% chance that an initial investment of $73693.6 in the portfolio with an 80% weight in SPY over the next 10 years will end within in the range of $75959.15 and $619446.26.\n"
     ]
    }
   ],
   "source": [
    "# Use the lower and upper `95%` confidence intervals to calculate the range of the possible outcomes for the current stock/bond portfolio\n",
    "ci_lower_ten_cumulative_return = round(spy_table[8]*73693.6,2)\n",
    "ci_upper_ten_cumulative_return = round(spy_table[9]*73693.6,2)\n",
    "\n",
    "# Print the result of your calculations\n",
    "print(f\"There is a 95% chance that an initial investment of $73693.6 in the portfolio\"\n",
    "      f\" with an 80% weight in SPY over the next 10 years will end within in the range of\"\n",
    "      f\" ${ci_lower_ten_cumulative_return} and ${ci_upper_ten_cumulative_return}.\")\n"
   ]
  },
  {
   "cell_type": "markdown",
   "metadata": {},
   "source": [
    "#### Question: Will weighting the portfolio more heavily to stocks allow the credit union members to retire after only 10 years?"
   ]
  },
  {
   "cell_type": "code",
   "execution_count": 67,
   "metadata": {},
   "outputs": [
    {
     "name": "stdout",
     "output_type": "stream",
     "text": [
      "There is a 95% chance that an initial investment of $73693.6 in the portfolio with an 60% weight in SPY over the next 30 years will end within in the range of $220124.79 and $3310473.48.\n"
     ]
    }
   ],
   "source": [
    "ci_lower_thirty_cumulative_return = even_ci_lower = round(weight_table[8]*73693.6,2)\n",
    "ci_upper_thirty_cumulative_return = round(weight_table[9]*73693.6,2)\n",
    "# Print the result of your calculations\n",
    "print(f\"There is a 95% chance that an initial investment of $73693.6 in the portfolio\"\n",
    "      f\" with an 60% weight in SPY over the next 30 years will end within in the range of\"\n",
    "      f\" ${ci_lower_thirty_cumulative_return} and ${ci_upper_thirty_cumulative_return}.\")"
   ]
  },
  {
   "cell_type": "raw",
   "metadata": {},
   "source": [
    "**Answer** There's a decent possiblity this credit union member can retire in 10 years with limited downside risk and greater upside potential than 80% stock weight portfolio would gain in 30 years.\n"
   ]
  },
  {
   "cell_type": "code",
   "execution_count": null,
   "metadata": {},
   "outputs": [],
   "source": []
  }
 ],
 "metadata": {
  "kernelspec": {
   "display_name": "Python (dev)",
   "language": "python",
   "name": "dev"
  },
  "language_info": {
   "codemirror_mode": {
    "name": "ipython",
    "version": 3
   },
   "file_extension": ".py",
   "mimetype": "text/x-python",
   "name": "python",
   "nbconvert_exporter": "python",
   "pygments_lexer": "ipython3",
   "version": "3.7.11"
  }
 },
 "nbformat": 4,
 "nbformat_minor": 4
}

**Answer** There's a decent possiblity this credit union member can retire in 10 years with limited downside risk and greater upside potential than 80% stock weight portfolio would gain in 30 years.
